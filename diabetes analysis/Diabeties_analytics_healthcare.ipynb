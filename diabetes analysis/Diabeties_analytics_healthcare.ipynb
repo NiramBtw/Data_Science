{
 "cells": [
  {
   "cell_type": "markdown",
   "metadata": {
    "id": "Nz65OT1mnf0L"
   },
   "source": [
    "# Diabetes Prediction\n",
    "\n",
    "#### using demographic data and body measurements\n",
    "\n",
    "### About our data\n",
    "The data collected from the NCHS - National Center for Health Statistics, via the NHANES -National Health and Nutrition Examination Survey (https://www.cdc.gov/Nchs/Nhanes/about_nhanes.htm), a major program of NCHS.\n",
    "\n",
    "The NHANES is program that designed to assess the health and nutritional status (adults and children) in the US.The survey is unique in that it combines interviews and physical examinations.\n",
    "\n",
    "NCHS is part of the Centers for Disease Control and Prevention (CDC) and has the responsibility for producing vital and health statistics for the Nation.\n",
    "\n",
    "The NHANES interview includes demographic, socioeconomic, dietary, and health-related questions. The examination component consists of medical, dental, and physiological measurements, as well as laboratory tests administered by highly trained medical personnel.\n",
    "\n",
    "- more research that have been published using the NHANES data https://www.ncbi.nlm.nih.gov/pubmed?orig_db=PubMed&term=NHANES&cmd=search"
   ]
  },
  {
   "cell_type": "markdown",
   "metadata": {},
   "source": [
    "# Data Map\n",
    "**1. Demographics dataset:**\n",
    "\n",
    "A complete variable dictionary can be found [here](https://wwwn.cdc.gov/Nchs/Nhanes/Search/variablelist.aspx?Component=Demographics&CycleBeginYear=2013)\n"
   ]
  },
  {
   "cell_type": "markdown",
   "metadata": {},
   "source": [
    "**2. Examinations dataset, which contains:**\n",
    "\n",
    "Blood pressure\n",
    "\n",
    "Body measures\n",
    "\n",
    "Muscle strength - grip test\n",
    "\n",
    "Oral health - dentition\n",
    "\n",
    "Taste & smell\n",
    "\n",
    "A complete variable dictionary can be found [here](https://wwwn.cdc.gov/Nchs/Nhanes/Search/variablelist.aspx?Component=Examination&CycleBeginYear=2013)\n"
   ]
  },
  {
   "cell_type": "markdown",
   "metadata": {},
   "source": [
    "**3. Dietary data - total nutrient intake, first day:**\n",
    "\n",
    "A complete variable dictionary can be found [here](https://wwwn.cdc.gov/Nchs/Nhanes/Search/variablelist.aspx?Component=Dietary&CycleBeginYear=2013)\n"
   ]
  },
  {
   "cell_type": "markdown",
   "metadata": {},
   "source": [
    "\n",
    "**4. Laboratory dataset, which includes:**\n",
    "\n",
    "A complete data dictionary can be found [here](https://wwwn.cdc.gov/Nchs/Nhanes/Search/variablelist.aspx?Component=Laboratory&CycleBeginYear=2013)\n",
    "\n",
    "Albumin & Creatinine - Urine\n",
    "\n",
    "Apolipoprotein B\n",
    "\n",
    "Blood Lead, Cadmium, Total Mercury, Selenium, and Manganese\n",
    "\n",
    "Blood mercury: inorganic, ethyl and methyl\n",
    "\n",
    "Cholesterol - HDL\n",
    "\n",
    "Cholesterol - LDL & Triglycerides\n",
    "\n",
    "Cholesterol - Total\n",
    "\n",
    "Complete Blood Count with 5-part Differential - Whole Blood\n",
    "\n",
    "Copper, Selenium & Zinc - Serum\n",
    "\n",
    "Fasting Questionnaire\n",
    "\n",
    "Fluoride - Plasma\n",
    "\n",
    "Fluoride - Water\n",
    "\n",
    "Glycohemoglobin\n",
    "\n",
    "Hepatitis A\n",
    "\n",
    "Hepatitis B Surface Antibody\n",
    "\n",
    "Hepatitis B: core antibody, surface antigen, and Hepatitis D antibody\n",
    "\n",
    "Hepatitis C RNA (HCV-RNA) and Hepatitis C Genotype\n",
    "\n",
    "Hepatitis E: IgG & IgM Antibodies\n",
    "\n",
    "Herpes Simplex Virus Type-1 & Type-2\n",
    "\n",
    "HIV Antibody Test\n",
    "\n",
    "Human Papillomavirus (HPV) - Oral Rinse\n",
    "\n",
    "Human Papillomavirus (HPV) DNA - Vaginal Swab: Roche Cobas & Roche Linear Array\n",
    "\n",
    "Human Papillomavirus (HPV) DNA Results from Penile Swab Samples: Roche Linear Array\n",
    "\n",
    "Insulin\n",
    "\n",
    "Iodine - Urine\n",
    "\n",
    "Perchlorate, Nitrate & Thiocyanate - Urine\n",
    "\n",
    "Perfluoroalkyl and Polyfluoroalkyl Substances (formerly Polyfluoroalkyl Chemicals - PFC)\n",
    "\n",
    "Personal Care and Consumer Product Chemicals and Metabolites\n",
    "\n",
    "Phthalates and Plasticizers Metabolites - Urine\n",
    "\n",
    "Plasma Fasting Glucose\n",
    "\n",
    "Polycyclic Aromatic Hydrocarbons (PAH) - Urine\n",
    "\n",
    "Standard Biochemistry Profile\n",
    "\n",
    "Tissue Transglutaminase Assay (IgA-TTG) & IgA Endomyseal Antibody Assay (IgA EMA)\n",
    "\n",
    "Trichomonas - Urine\n",
    "\n",
    "Two-hour Oral Glucose Tolerance Test\n",
    "\n",
    "Urinary Chlamydia\n",
    "\n",
    "Urinary Mercury\n",
    "\n",
    "Urinary Speciated Arsenics\n",
    "\n",
    "Urinary Total Arsenic\n",
    "\n",
    "Urine Flow Rate\n",
    "\n",
    "Urine Metals\n",
    "\n",
    "Urine Pregnancy Test\n",
    "\n",
    "Vitamin B12\n",
    "\n",
    "\n",
    "**Questionnaire dataset, which includes information on:**\n",
    "\n",
    "A complete variable dictionary can be found [here](https://wwwn.cdc.gov/Nchs/Nhanes/Search/variablelist.aspx?Component=Questionnaire&CycleBeginYear=2013)\n",
    "\n",
    "Acculturation\n",
    "\n",
    "Alcohol Use\n",
    "\n",
    "Blood Pressure & Cholesterol\n",
    "\n",
    "Cardiovascular Health\n",
    "\n",
    "Consumer Behavior\n",
    "\n",
    "Current Health Status\n",
    "\n",
    "Dermatology\n",
    "\n",
    "Diabetes\n",
    "\n",
    "Diet Behavior & Nutrition\n",
    "\n",
    "Disability\n",
    "\n",
    "Drug Use\n",
    "\n",
    "Early Childhood\n",
    "\n",
    "Food Security\n",
    "\n",
    "Health Insurance\n",
    "\n",
    "Hepatitis\n",
    "\n",
    "Hospital Utilization & Access to Care\n",
    "\n",
    "Housing Characteristics\n",
    "\n",
    "Immunization\n",
    "\n",
    "Income\n",
    "\n",
    "Medical Conditions\n",
    "\n",
    "Mental Health - Depression Screener\n",
    "\n",
    "Occupation\n",
    "\n",
    "Oral Health\n",
    "\n",
    "Osteoporosis\n",
    "\n",
    "Pesticide Use\n",
    "\n",
    "Physical Activity\n",
    "\n",
    "Physical Functioning\n",
    "\n",
    "Preventive Aspirin Use\n",
    "\n",
    "Reproductive Health\n",
    "\n",
    "Sexual Behavior\n",
    "\n",
    "Sleep Disorders\n",
    "\n",
    "Smoking - Cigarette Use\n",
    "\n",
    "Smoking - Household Smokers\n",
    "\n",
    "Smoking - Recent Tobacco Use\n",
    "\n",
    "Smoking - Secondhand Smoke Exposure\n",
    "\n",
    "Taste & Smell\n",
    "\n",
    "Weight History\n",
    "\n",
    "Weight History - Youth\n",
    "\n",
    "\n",
    "https://wwwn.cdc.gov/Nchs/Nhanes/Search/variablelist.aspx?Component=Questionnaire&CycleBeginYear=2013"
   ]
  },
  {
   "cell_type": "markdown",
   "metadata": {
    "id": "Vj93ON87pDB_"
   },
   "source": [
    "# Loading and Preparing Our Datasets"
   ]
  },
  {
   "cell_type": "code",
   "execution_count": 1,
   "metadata": {
    "executionInfo": {
     "elapsed": 432,
     "status": "ok",
     "timestamp": 1603946333746,
     "user": {
      "displayName": "Rajeev Ratan",
      "photoUrl": "https://lh3.googleusercontent.com/a-/AOh14GhBYJnwdIGYSJdvGmzIt64rYSF1dDuiFyfRw4Rpeg=s64",
      "userId": "08597265227091462140"
     },
     "user_tz": 240
    },
    "id": "FEOsupZ2mzlJ"
   },
   "outputs": [],
   "source": [
    "# imports\n",
    "import numpy as np \n",
    "import pandas as pd\n",
    "import seaborn as sns\n",
    "import numpy as np\n",
    "import matplotlib.pyplot as plt\n",
    "import matplotlib as matplot\n",
    "\n",
    "import re\n",
    "import sklearn\n",
    "\n",
    "# ignore any warnings for cleaner output\n",
    "import warnings\n",
    "warnings.filterwarnings(\"ignore\")"
   ]
  },
  {
   "cell_type": "code",
   "execution_count": 2,
   "metadata": {
    "colab": {
     "base_uri": "https://localhost:8080/",
     "height": 333
    },
    "executionInfo": {
     "elapsed": 8789,
     "status": "ok",
     "timestamp": 1603946415499,
     "user": {
      "displayName": "Rajeev Ratan",
      "photoUrl": "https://lh3.googleusercontent.com/a-/AOh14GhBYJnwdIGYSJdvGmzIt64rYSF1dDuiFyfRw4Rpeg=s64",
      "userId": "08597265227091462140"
     },
     "user_tz": 240
    },
    "id": "SGmqerxlpIem",
    "outputId": "d8c6ed7b-24cc-4a24-a7c2-c0064ee8bb34"
   },
   "outputs": [],
   "source": [
    "df1  = pd.read_csv('labs.csv')\n",
    "df2  = pd.read_csv('examination.csv')\n",
    "df3  = pd.read_csv('demographic.csv')\n",
    "df4  = pd.read_csv('diet.csv')\n",
    "df5  = pd.read_csv('questionnaire.csv')\n"
   ]
  },
  {
   "cell_type": "code",
   "execution_count": 3,
   "metadata": {},
   "outputs": [
    {
     "data": {
      "text/html": [
       "<div>\n",
       "<style scoped>\n",
       "    .dataframe tbody tr th:only-of-type {\n",
       "        vertical-align: middle;\n",
       "    }\n",
       "\n",
       "    .dataframe tbody tr th {\n",
       "        vertical-align: top;\n",
       "    }\n",
       "\n",
       "    .dataframe thead th {\n",
       "        text-align: right;\n",
       "    }\n",
       "</style>\n",
       "<table border=\"1\" class=\"dataframe\">\n",
       "  <thead>\n",
       "    <tr style=\"text-align: right;\">\n",
       "      <th></th>\n",
       "      <th>SEQN</th>\n",
       "      <th>URXUMA</th>\n",
       "      <th>URXUMS</th>\n",
       "      <th>URXUCR.x</th>\n",
       "      <th>URXCRS</th>\n",
       "      <th>URDACT</th>\n",
       "      <th>WTSAF2YR.x</th>\n",
       "      <th>LBXAPB</th>\n",
       "      <th>LBDAPBSI</th>\n",
       "      <th>LBXSAL</th>\n",
       "      <th>...</th>\n",
       "      <th>URXUTL</th>\n",
       "      <th>URDUTLLC</th>\n",
       "      <th>URXUTU</th>\n",
       "      <th>URDUTULC</th>\n",
       "      <th>URXUUR</th>\n",
       "      <th>URDUURLC</th>\n",
       "      <th>URXPREG</th>\n",
       "      <th>URXUAS</th>\n",
       "      <th>LBDB12</th>\n",
       "      <th>LBDB12SI</th>\n",
       "    </tr>\n",
       "  </thead>\n",
       "  <tbody>\n",
       "    <tr>\n",
       "      <th>0</th>\n",
       "      <td>73557</td>\n",
       "      <td>4.3</td>\n",
       "      <td>4.3</td>\n",
       "      <td>39.0</td>\n",
       "      <td>3447.6</td>\n",
       "      <td>11.03</td>\n",
       "      <td>NaN</td>\n",
       "      <td>NaN</td>\n",
       "      <td>NaN</td>\n",
       "      <td>4.1</td>\n",
       "      <td>...</td>\n",
       "      <td>NaN</td>\n",
       "      <td>NaN</td>\n",
       "      <td>NaN</td>\n",
       "      <td>NaN</td>\n",
       "      <td>NaN</td>\n",
       "      <td>NaN</td>\n",
       "      <td>NaN</td>\n",
       "      <td>NaN</td>\n",
       "      <td>524.0</td>\n",
       "      <td>386.7</td>\n",
       "    </tr>\n",
       "    <tr>\n",
       "      <th>1</th>\n",
       "      <td>73558</td>\n",
       "      <td>153.0</td>\n",
       "      <td>153.0</td>\n",
       "      <td>50.0</td>\n",
       "      <td>4420.0</td>\n",
       "      <td>306.00</td>\n",
       "      <td>NaN</td>\n",
       "      <td>NaN</td>\n",
       "      <td>NaN</td>\n",
       "      <td>4.7</td>\n",
       "      <td>...</td>\n",
       "      <td>NaN</td>\n",
       "      <td>NaN</td>\n",
       "      <td>NaN</td>\n",
       "      <td>NaN</td>\n",
       "      <td>NaN</td>\n",
       "      <td>NaN</td>\n",
       "      <td>NaN</td>\n",
       "      <td>NaN</td>\n",
       "      <td>507.0</td>\n",
       "      <td>374.2</td>\n",
       "    </tr>\n",
       "    <tr>\n",
       "      <th>2</th>\n",
       "      <td>73559</td>\n",
       "      <td>11.9</td>\n",
       "      <td>11.9</td>\n",
       "      <td>113.0</td>\n",
       "      <td>9989.2</td>\n",
       "      <td>10.53</td>\n",
       "      <td>142196.890197</td>\n",
       "      <td>57.0</td>\n",
       "      <td>0.57</td>\n",
       "      <td>3.7</td>\n",
       "      <td>...</td>\n",
       "      <td>NaN</td>\n",
       "      <td>NaN</td>\n",
       "      <td>NaN</td>\n",
       "      <td>NaN</td>\n",
       "      <td>NaN</td>\n",
       "      <td>NaN</td>\n",
       "      <td>NaN</td>\n",
       "      <td>NaN</td>\n",
       "      <td>732.0</td>\n",
       "      <td>540.2</td>\n",
       "    </tr>\n",
       "    <tr>\n",
       "      <th>3</th>\n",
       "      <td>73560</td>\n",
       "      <td>16.0</td>\n",
       "      <td>16.0</td>\n",
       "      <td>76.0</td>\n",
       "      <td>6718.4</td>\n",
       "      <td>21.05</td>\n",
       "      <td>NaN</td>\n",
       "      <td>NaN</td>\n",
       "      <td>NaN</td>\n",
       "      <td>NaN</td>\n",
       "      <td>...</td>\n",
       "      <td>0.062</td>\n",
       "      <td>0.0</td>\n",
       "      <td>0.238</td>\n",
       "      <td>0.0</td>\n",
       "      <td>0.0071</td>\n",
       "      <td>0.0</td>\n",
       "      <td>NaN</td>\n",
       "      <td>3.83</td>\n",
       "      <td>NaN</td>\n",
       "      <td>NaN</td>\n",
       "    </tr>\n",
       "    <tr>\n",
       "      <th>4</th>\n",
       "      <td>73561</td>\n",
       "      <td>255.0</td>\n",
       "      <td>255.0</td>\n",
       "      <td>147.0</td>\n",
       "      <td>12994.8</td>\n",
       "      <td>173.47</td>\n",
       "      <td>142266.006548</td>\n",
       "      <td>92.0</td>\n",
       "      <td>0.92</td>\n",
       "      <td>4.3</td>\n",
       "      <td>...</td>\n",
       "      <td>NaN</td>\n",
       "      <td>NaN</td>\n",
       "      <td>NaN</td>\n",
       "      <td>NaN</td>\n",
       "      <td>NaN</td>\n",
       "      <td>NaN</td>\n",
       "      <td>NaN</td>\n",
       "      <td>NaN</td>\n",
       "      <td>225.0</td>\n",
       "      <td>166.1</td>\n",
       "    </tr>\n",
       "  </tbody>\n",
       "</table>\n",
       "<p>5 rows × 424 columns</p>\n",
       "</div>"
      ],
      "text/plain": [
       "    SEQN  URXUMA  URXUMS  URXUCR.x   URXCRS  URDACT     WTSAF2YR.x  LBXAPB  \\\n",
       "0  73557     4.3     4.3      39.0   3447.6   11.03            NaN     NaN   \n",
       "1  73558   153.0   153.0      50.0   4420.0  306.00            NaN     NaN   \n",
       "2  73559    11.9    11.9     113.0   9989.2   10.53  142196.890197    57.0   \n",
       "3  73560    16.0    16.0      76.0   6718.4   21.05            NaN     NaN   \n",
       "4  73561   255.0   255.0     147.0  12994.8  173.47  142266.006548    92.0   \n",
       "\n",
       "   LBDAPBSI  LBXSAL  ...  URXUTL  URDUTLLC  URXUTU  URDUTULC  URXUUR  \\\n",
       "0       NaN     4.1  ...     NaN       NaN     NaN       NaN     NaN   \n",
       "1       NaN     4.7  ...     NaN       NaN     NaN       NaN     NaN   \n",
       "2      0.57     3.7  ...     NaN       NaN     NaN       NaN     NaN   \n",
       "3       NaN     NaN  ...   0.062       0.0   0.238       0.0  0.0071   \n",
       "4      0.92     4.3  ...     NaN       NaN     NaN       NaN     NaN   \n",
       "\n",
       "   URDUURLC  URXPREG  URXUAS  LBDB12  LBDB12SI  \n",
       "0       NaN      NaN     NaN   524.0     386.7  \n",
       "1       NaN      NaN     NaN   507.0     374.2  \n",
       "2       NaN      NaN     NaN   732.0     540.2  \n",
       "3       0.0      NaN    3.83     NaN       NaN  \n",
       "4       NaN      NaN     NaN   225.0     166.1  \n",
       "\n",
       "[5 rows x 424 columns]"
      ]
     },
     "execution_count": 3,
     "metadata": {},
     "output_type": "execute_result"
    }
   ],
   "source": [
    "df1.head()"
   ]
  },
  {
   "cell_type": "code",
   "execution_count": 4,
   "metadata": {
    "scrolled": true
   },
   "outputs": [
    {
     "data": {
      "text/html": [
       "<div>\n",
       "<style scoped>\n",
       "    .dataframe tbody tr th:only-of-type {\n",
       "        vertical-align: middle;\n",
       "    }\n",
       "\n",
       "    .dataframe tbody tr th {\n",
       "        vertical-align: top;\n",
       "    }\n",
       "\n",
       "    .dataframe thead th {\n",
       "        text-align: right;\n",
       "    }\n",
       "</style>\n",
       "<table border=\"1\" class=\"dataframe\">\n",
       "  <thead>\n",
       "    <tr style=\"text-align: right;\">\n",
       "      <th></th>\n",
       "      <th>SEQN</th>\n",
       "      <th>PEASCST1</th>\n",
       "      <th>PEASCTM1</th>\n",
       "      <th>PEASCCT1</th>\n",
       "      <th>BPXCHR</th>\n",
       "      <th>BPAARM</th>\n",
       "      <th>BPACSZ</th>\n",
       "      <th>BPXPLS</th>\n",
       "      <th>BPXPULS</th>\n",
       "      <th>BPXPTY</th>\n",
       "      <th>...</th>\n",
       "      <th>CSXLEAOD</th>\n",
       "      <th>CSXSOAOD</th>\n",
       "      <th>CSXGRAOD</th>\n",
       "      <th>CSXONOD</th>\n",
       "      <th>CSXNGSOD</th>\n",
       "      <th>CSXSLTRT</th>\n",
       "      <th>CSXSLTRG</th>\n",
       "      <th>CSXNART</th>\n",
       "      <th>CSXNARG</th>\n",
       "      <th>CSAEFFRT</th>\n",
       "    </tr>\n",
       "  </thead>\n",
       "  <tbody>\n",
       "    <tr>\n",
       "      <th>0</th>\n",
       "      <td>73557</td>\n",
       "      <td>1</td>\n",
       "      <td>620.0</td>\n",
       "      <td>NaN</td>\n",
       "      <td>NaN</td>\n",
       "      <td>1.0</td>\n",
       "      <td>4.0</td>\n",
       "      <td>86.0</td>\n",
       "      <td>1.0</td>\n",
       "      <td>1.0</td>\n",
       "      <td>...</td>\n",
       "      <td>2.0</td>\n",
       "      <td>1.0</td>\n",
       "      <td>1.0</td>\n",
       "      <td>1.0</td>\n",
       "      <td>4.0</td>\n",
       "      <td>62.0</td>\n",
       "      <td>1.0</td>\n",
       "      <td>NaN</td>\n",
       "      <td>NaN</td>\n",
       "      <td>1.0</td>\n",
       "    </tr>\n",
       "    <tr>\n",
       "      <th>1</th>\n",
       "      <td>73558</td>\n",
       "      <td>1</td>\n",
       "      <td>766.0</td>\n",
       "      <td>NaN</td>\n",
       "      <td>NaN</td>\n",
       "      <td>1.0</td>\n",
       "      <td>4.0</td>\n",
       "      <td>74.0</td>\n",
       "      <td>1.0</td>\n",
       "      <td>1.0</td>\n",
       "      <td>...</td>\n",
       "      <td>3.0</td>\n",
       "      <td>1.0</td>\n",
       "      <td>2.0</td>\n",
       "      <td>3.0</td>\n",
       "      <td>4.0</td>\n",
       "      <td>28.0</td>\n",
       "      <td>1.0</td>\n",
       "      <td>NaN</td>\n",
       "      <td>NaN</td>\n",
       "      <td>1.0</td>\n",
       "    </tr>\n",
       "    <tr>\n",
       "      <th>2</th>\n",
       "      <td>73559</td>\n",
       "      <td>1</td>\n",
       "      <td>665.0</td>\n",
       "      <td>NaN</td>\n",
       "      <td>NaN</td>\n",
       "      <td>1.0</td>\n",
       "      <td>4.0</td>\n",
       "      <td>68.0</td>\n",
       "      <td>1.0</td>\n",
       "      <td>1.0</td>\n",
       "      <td>...</td>\n",
       "      <td>2.0</td>\n",
       "      <td>1.0</td>\n",
       "      <td>2.0</td>\n",
       "      <td>3.0</td>\n",
       "      <td>4.0</td>\n",
       "      <td>49.0</td>\n",
       "      <td>1.0</td>\n",
       "      <td>NaN</td>\n",
       "      <td>NaN</td>\n",
       "      <td>3.0</td>\n",
       "    </tr>\n",
       "    <tr>\n",
       "      <th>3</th>\n",
       "      <td>73560</td>\n",
       "      <td>1</td>\n",
       "      <td>803.0</td>\n",
       "      <td>NaN</td>\n",
       "      <td>NaN</td>\n",
       "      <td>1.0</td>\n",
       "      <td>2.0</td>\n",
       "      <td>64.0</td>\n",
       "      <td>1.0</td>\n",
       "      <td>1.0</td>\n",
       "      <td>...</td>\n",
       "      <td>NaN</td>\n",
       "      <td>NaN</td>\n",
       "      <td>NaN</td>\n",
       "      <td>NaN</td>\n",
       "      <td>NaN</td>\n",
       "      <td>NaN</td>\n",
       "      <td>NaN</td>\n",
       "      <td>NaN</td>\n",
       "      <td>NaN</td>\n",
       "      <td>NaN</td>\n",
       "    </tr>\n",
       "    <tr>\n",
       "      <th>4</th>\n",
       "      <td>73561</td>\n",
       "      <td>1</td>\n",
       "      <td>949.0</td>\n",
       "      <td>NaN</td>\n",
       "      <td>NaN</td>\n",
       "      <td>1.0</td>\n",
       "      <td>3.0</td>\n",
       "      <td>92.0</td>\n",
       "      <td>1.0</td>\n",
       "      <td>1.0</td>\n",
       "      <td>...</td>\n",
       "      <td>3.0</td>\n",
       "      <td>1.0</td>\n",
       "      <td>4.0</td>\n",
       "      <td>3.0</td>\n",
       "      <td>4.0</td>\n",
       "      <td>NaN</td>\n",
       "      <td>NaN</td>\n",
       "      <td>NaN</td>\n",
       "      <td>NaN</td>\n",
       "      <td>1.0</td>\n",
       "    </tr>\n",
       "  </tbody>\n",
       "</table>\n",
       "<p>5 rows × 224 columns</p>\n",
       "</div>"
      ],
      "text/plain": [
       "    SEQN  PEASCST1  PEASCTM1  PEASCCT1  BPXCHR  BPAARM  BPACSZ  BPXPLS  \\\n",
       "0  73557         1     620.0       NaN     NaN     1.0     4.0    86.0   \n",
       "1  73558         1     766.0       NaN     NaN     1.0     4.0    74.0   \n",
       "2  73559         1     665.0       NaN     NaN     1.0     4.0    68.0   \n",
       "3  73560         1     803.0       NaN     NaN     1.0     2.0    64.0   \n",
       "4  73561         1     949.0       NaN     NaN     1.0     3.0    92.0   \n",
       "\n",
       "   BPXPULS  BPXPTY  ...  CSXLEAOD  CSXSOAOD  CSXGRAOD  CSXONOD  CSXNGSOD  \\\n",
       "0      1.0     1.0  ...       2.0       1.0       1.0      1.0       4.0   \n",
       "1      1.0     1.0  ...       3.0       1.0       2.0      3.0       4.0   \n",
       "2      1.0     1.0  ...       2.0       1.0       2.0      3.0       4.0   \n",
       "3      1.0     1.0  ...       NaN       NaN       NaN      NaN       NaN   \n",
       "4      1.0     1.0  ...       3.0       1.0       4.0      3.0       4.0   \n",
       "\n",
       "   CSXSLTRT  CSXSLTRG  CSXNART  CSXNARG  CSAEFFRT  \n",
       "0      62.0       1.0      NaN      NaN       1.0  \n",
       "1      28.0       1.0      NaN      NaN       1.0  \n",
       "2      49.0       1.0      NaN      NaN       3.0  \n",
       "3       NaN       NaN      NaN      NaN       NaN  \n",
       "4       NaN       NaN      NaN      NaN       1.0  \n",
       "\n",
       "[5 rows x 224 columns]"
      ]
     },
     "execution_count": 4,
     "metadata": {},
     "output_type": "execute_result"
    }
   ],
   "source": [
    "df2.head()"
   ]
  },
  {
   "cell_type": "code",
   "execution_count": 5,
   "metadata": {},
   "outputs": [],
   "source": [
    "# saving 1 SEQN \n",
    "df2.drop(['SEQN'], axis = 1, inplace=True)\n",
    "df3.drop(['SEQN'], axis = 1, inplace=True)\n",
    "df4.drop(['SEQN'], axis = 1, inplace=True)\n",
    "df5.drop(['SEQN'], axis = 1, inplace=True)\n"
   ]
  },
  {
   "cell_type": "code",
   "execution_count": 6,
   "metadata": {},
   "outputs": [],
   "source": [
    "# merging to 1 df\n",
    "df = pd.concat([df1, df2], axis=1, join='inner')\n",
    "df = pd.concat([df, df3], axis=1, join='inner')\n",
    "df = pd.concat([df, df4], axis=1, join='inner')\n",
    "df = pd.concat([df, df5], axis=1, join='inner')"
   ]
  },
  {
   "cell_type": "code",
   "execution_count": 7,
   "metadata": {
    "colab": {
     "base_uri": "https://localhost:8080/",
     "height": 244
    },
    "executionInfo": {
     "elapsed": 760,
     "status": "ok",
     "timestamp": 1603946416273,
     "user": {
      "displayName": "Rajeev Ratan",
      "photoUrl": "https://lh3.googleusercontent.com/a-/AOh14GhBYJnwdIGYSJdvGmzIt64rYSF1dDuiFyfRw4Rpeg=s64",
      "userId": "08597265227091462140"
     },
     "user_tz": 240
    },
    "id": "6VyGWNmBp-Lj",
    "outputId": "e1831510-e9be-4805-ba28-19e405f04269",
    "scrolled": true
   },
   "outputs": [
    {
     "data": {
      "text/html": [
       "<div>\n",
       "<style scoped>\n",
       "    .dataframe tbody tr th:only-of-type {\n",
       "        vertical-align: middle;\n",
       "    }\n",
       "\n",
       "    .dataframe tbody tr th {\n",
       "        vertical-align: top;\n",
       "    }\n",
       "\n",
       "    .dataframe thead th {\n",
       "        text-align: right;\n",
       "    }\n",
       "</style>\n",
       "<table border=\"1\" class=\"dataframe\">\n",
       "  <thead>\n",
       "    <tr style=\"text-align: right;\">\n",
       "      <th></th>\n",
       "      <th>SEQN</th>\n",
       "      <th>URXUMA</th>\n",
       "      <th>URXUMS</th>\n",
       "      <th>URXUCR.x</th>\n",
       "      <th>URXCRS</th>\n",
       "      <th>URDACT</th>\n",
       "      <th>WTSAF2YR.x</th>\n",
       "      <th>LBXAPB</th>\n",
       "      <th>LBDAPBSI</th>\n",
       "      <th>LBXSAL</th>\n",
       "      <th>...</th>\n",
       "      <th>WHD080U</th>\n",
       "      <th>WHD080L</th>\n",
       "      <th>WHD110</th>\n",
       "      <th>WHD120</th>\n",
       "      <th>WHD130</th>\n",
       "      <th>WHD140</th>\n",
       "      <th>WHQ150</th>\n",
       "      <th>WHQ030M</th>\n",
       "      <th>WHQ500</th>\n",
       "      <th>WHQ520</th>\n",
       "    </tr>\n",
       "  </thead>\n",
       "  <tbody>\n",
       "    <tr>\n",
       "      <th>0</th>\n",
       "      <td>73557</td>\n",
       "      <td>4.3</td>\n",
       "      <td>4.3</td>\n",
       "      <td>39.0</td>\n",
       "      <td>3447.6</td>\n",
       "      <td>11.03</td>\n",
       "      <td>NaN</td>\n",
       "      <td>NaN</td>\n",
       "      <td>NaN</td>\n",
       "      <td>4.1</td>\n",
       "      <td>...</td>\n",
       "      <td>NaN</td>\n",
       "      <td>40.0</td>\n",
       "      <td>270.0</td>\n",
       "      <td>200.0</td>\n",
       "      <td>69.0</td>\n",
       "      <td>270.0</td>\n",
       "      <td>62.0</td>\n",
       "      <td>NaN</td>\n",
       "      <td>NaN</td>\n",
       "      <td>NaN</td>\n",
       "    </tr>\n",
       "    <tr>\n",
       "      <th>1</th>\n",
       "      <td>73558</td>\n",
       "      <td>153.0</td>\n",
       "      <td>153.0</td>\n",
       "      <td>50.0</td>\n",
       "      <td>4420.0</td>\n",
       "      <td>306.00</td>\n",
       "      <td>NaN</td>\n",
       "      <td>NaN</td>\n",
       "      <td>NaN</td>\n",
       "      <td>4.7</td>\n",
       "      <td>...</td>\n",
       "      <td>NaN</td>\n",
       "      <td>NaN</td>\n",
       "      <td>240.0</td>\n",
       "      <td>250.0</td>\n",
       "      <td>72.0</td>\n",
       "      <td>250.0</td>\n",
       "      <td>25.0</td>\n",
       "      <td>NaN</td>\n",
       "      <td>NaN</td>\n",
       "      <td>NaN</td>\n",
       "    </tr>\n",
       "    <tr>\n",
       "      <th>2</th>\n",
       "      <td>73559</td>\n",
       "      <td>11.9</td>\n",
       "      <td>11.9</td>\n",
       "      <td>113.0</td>\n",
       "      <td>9989.2</td>\n",
       "      <td>10.53</td>\n",
       "      <td>142196.890197</td>\n",
       "      <td>57.0</td>\n",
       "      <td>0.57</td>\n",
       "      <td>3.7</td>\n",
       "      <td>...</td>\n",
       "      <td>NaN</td>\n",
       "      <td>NaN</td>\n",
       "      <td>180.0</td>\n",
       "      <td>190.0</td>\n",
       "      <td>70.0</td>\n",
       "      <td>228.0</td>\n",
       "      <td>35.0</td>\n",
       "      <td>NaN</td>\n",
       "      <td>NaN</td>\n",
       "      <td>NaN</td>\n",
       "    </tr>\n",
       "    <tr>\n",
       "      <th>3</th>\n",
       "      <td>73560</td>\n",
       "      <td>16.0</td>\n",
       "      <td>16.0</td>\n",
       "      <td>76.0</td>\n",
       "      <td>6718.4</td>\n",
       "      <td>21.05</td>\n",
       "      <td>NaN</td>\n",
       "      <td>NaN</td>\n",
       "      <td>NaN</td>\n",
       "      <td>NaN</td>\n",
       "      <td>...</td>\n",
       "      <td>NaN</td>\n",
       "      <td>NaN</td>\n",
       "      <td>NaN</td>\n",
       "      <td>NaN</td>\n",
       "      <td>NaN</td>\n",
       "      <td>NaN</td>\n",
       "      <td>NaN</td>\n",
       "      <td>3.0</td>\n",
       "      <td>3.0</td>\n",
       "      <td>3.0</td>\n",
       "    </tr>\n",
       "    <tr>\n",
       "      <th>4</th>\n",
       "      <td>73561</td>\n",
       "      <td>255.0</td>\n",
       "      <td>255.0</td>\n",
       "      <td>147.0</td>\n",
       "      <td>12994.8</td>\n",
       "      <td>173.47</td>\n",
       "      <td>142266.006548</td>\n",
       "      <td>92.0</td>\n",
       "      <td>0.92</td>\n",
       "      <td>4.3</td>\n",
       "      <td>...</td>\n",
       "      <td>NaN</td>\n",
       "      <td>NaN</td>\n",
       "      <td>150.0</td>\n",
       "      <td>135.0</td>\n",
       "      <td>67.0</td>\n",
       "      <td>170.0</td>\n",
       "      <td>60.0</td>\n",
       "      <td>NaN</td>\n",
       "      <td>NaN</td>\n",
       "      <td>NaN</td>\n",
       "    </tr>\n",
       "  </tbody>\n",
       "</table>\n",
       "<p>5 rows × 1812 columns</p>\n",
       "</div>"
      ],
      "text/plain": [
       "    SEQN  URXUMA  URXUMS  URXUCR.x   URXCRS  URDACT     WTSAF2YR.x  LBXAPB  \\\n",
       "0  73557     4.3     4.3      39.0   3447.6   11.03            NaN     NaN   \n",
       "1  73558   153.0   153.0      50.0   4420.0  306.00            NaN     NaN   \n",
       "2  73559    11.9    11.9     113.0   9989.2   10.53  142196.890197    57.0   \n",
       "3  73560    16.0    16.0      76.0   6718.4   21.05            NaN     NaN   \n",
       "4  73561   255.0   255.0     147.0  12994.8  173.47  142266.006548    92.0   \n",
       "\n",
       "   LBDAPBSI  LBXSAL  ...  WHD080U  WHD080L  WHD110  WHD120  WHD130  WHD140  \\\n",
       "0       NaN     4.1  ...      NaN     40.0   270.0   200.0    69.0   270.0   \n",
       "1       NaN     4.7  ...      NaN      NaN   240.0   250.0    72.0   250.0   \n",
       "2      0.57     3.7  ...      NaN      NaN   180.0   190.0    70.0   228.0   \n",
       "3       NaN     NaN  ...      NaN      NaN     NaN     NaN     NaN     NaN   \n",
       "4      0.92     4.3  ...      NaN      NaN   150.0   135.0    67.0   170.0   \n",
       "\n",
       "   WHQ150  WHQ030M  WHQ500  WHQ520  \n",
       "0    62.0      NaN     NaN     NaN  \n",
       "1    25.0      NaN     NaN     NaN  \n",
       "2    35.0      NaN     NaN     NaN  \n",
       "3     NaN      3.0     3.0     3.0  \n",
       "4    60.0      NaN     NaN     NaN  \n",
       "\n",
       "[5 rows x 1812 columns]"
      ]
     },
     "execution_count": 7,
     "metadata": {},
     "output_type": "execute_result"
    }
   ],
   "source": [
    "df.head()"
   ]
  },
  {
   "cell_type": "code",
   "execution_count": 8,
   "metadata": {},
   "outputs": [
    {
     "data": {
      "text/html": [
       "<div>\n",
       "<style scoped>\n",
       "    .dataframe tbody tr th:only-of-type {\n",
       "        vertical-align: middle;\n",
       "    }\n",
       "\n",
       "    .dataframe tbody tr th {\n",
       "        vertical-align: top;\n",
       "    }\n",
       "\n",
       "    .dataframe thead th {\n",
       "        text-align: right;\n",
       "    }\n",
       "</style>\n",
       "<table border=\"1\" class=\"dataframe\">\n",
       "  <thead>\n",
       "    <tr style=\"text-align: right;\">\n",
       "      <th></th>\n",
       "      <th>SEQN</th>\n",
       "      <th>URXUMA</th>\n",
       "      <th>URXUMS</th>\n",
       "      <th>URXUCR.x</th>\n",
       "      <th>URXCRS</th>\n",
       "      <th>URDACT</th>\n",
       "      <th>WTSAF2YR.x</th>\n",
       "      <th>LBXAPB</th>\n",
       "      <th>LBDAPBSI</th>\n",
       "      <th>LBXSAL</th>\n",
       "      <th>...</th>\n",
       "      <th>WHD080U</th>\n",
       "      <th>WHD080L</th>\n",
       "      <th>WHD110</th>\n",
       "      <th>WHD120</th>\n",
       "      <th>WHD130</th>\n",
       "      <th>WHD140</th>\n",
       "      <th>WHQ150</th>\n",
       "      <th>WHQ030M</th>\n",
       "      <th>WHQ500</th>\n",
       "      <th>WHQ520</th>\n",
       "    </tr>\n",
       "  </thead>\n",
       "  <tbody>\n",
       "    <tr>\n",
       "      <th>count</th>\n",
       "      <td>9813.000000</td>\n",
       "      <td>8052.000000</td>\n",
       "      <td>8052.000000</td>\n",
       "      <td>8052.000000</td>\n",
       "      <td>8052.000000</td>\n",
       "      <td>8052.000000</td>\n",
       "      <td>3329.000000</td>\n",
       "      <td>3145.000000</td>\n",
       "      <td>3145.000000</td>\n",
       "      <td>6553.000000</td>\n",
       "      <td>...</td>\n",
       "      <td>14.0</td>\n",
       "      <td>28.0</td>\n",
       "      <td>4036.000000</td>\n",
       "      <td>4842.000000</td>\n",
       "      <td>2667.000000</td>\n",
       "      <td>5879.000000</td>\n",
       "      <td>5800.000000</td>\n",
       "      <td>1424.000000</td>\n",
       "      <td>1424.000000</td>\n",
       "      <td>1424.000000</td>\n",
       "    </tr>\n",
       "    <tr>\n",
       "      <th>mean</th>\n",
       "      <td>78644.559971</td>\n",
       "      <td>41.218854</td>\n",
       "      <td>41.218854</td>\n",
       "      <td>121.072529</td>\n",
       "      <td>10702.811525</td>\n",
       "      <td>41.905695</td>\n",
       "      <td>78917.195254</td>\n",
       "      <td>85.898569</td>\n",
       "      <td>0.858986</td>\n",
       "      <td>4.282085</td>\n",
       "      <td>...</td>\n",
       "      <td>35.0</td>\n",
       "      <td>40.0</td>\n",
       "      <td>413.440287</td>\n",
       "      <td>567.920074</td>\n",
       "      <td>373.831646</td>\n",
       "      <td>315.447355</td>\n",
       "      <td>574.222069</td>\n",
       "      <td>2.586376</td>\n",
       "      <td>2.295646</td>\n",
       "      <td>1.747893</td>\n",
       "    </tr>\n",
       "    <tr>\n",
       "      <th>std</th>\n",
       "      <td>2938.592266</td>\n",
       "      <td>238.910226</td>\n",
       "      <td>238.910226</td>\n",
       "      <td>78.574882</td>\n",
       "      <td>6946.019595</td>\n",
       "      <td>276.261093</td>\n",
       "      <td>71088.020067</td>\n",
       "      <td>25.595258</td>\n",
       "      <td>0.255953</td>\n",
       "      <td>0.343649</td>\n",
       "      <td>...</td>\n",
       "      <td>0.0</td>\n",
       "      <td>0.0</td>\n",
       "      <td>1511.368399</td>\n",
       "      <td>1975.492188</td>\n",
       "      <td>1716.831150</td>\n",
       "      <td>1075.040013</td>\n",
       "      <td>7288.930842</td>\n",
       "      <td>0.782529</td>\n",
       "      <td>1.210905</td>\n",
       "      <td>0.707600</td>\n",
       "    </tr>\n",
       "    <tr>\n",
       "      <th>min</th>\n",
       "      <td>73557.000000</td>\n",
       "      <td>0.210000</td>\n",
       "      <td>0.210000</td>\n",
       "      <td>5.000000</td>\n",
       "      <td>442.000000</td>\n",
       "      <td>0.210000</td>\n",
       "      <td>0.000000</td>\n",
       "      <td>20.000000</td>\n",
       "      <td>0.200000</td>\n",
       "      <td>2.400000</td>\n",
       "      <td>...</td>\n",
       "      <td>35.0</td>\n",
       "      <td>40.0</td>\n",
       "      <td>75.000000</td>\n",
       "      <td>55.000000</td>\n",
       "      <td>50.000000</td>\n",
       "      <td>85.000000</td>\n",
       "      <td>10.000000</td>\n",
       "      <td>1.000000</td>\n",
       "      <td>1.000000</td>\n",
       "      <td>1.000000</td>\n",
       "    </tr>\n",
       "    <tr>\n",
       "      <th>25%</th>\n",
       "      <td>76092.000000</td>\n",
       "      <td>4.500000</td>\n",
       "      <td>4.500000</td>\n",
       "      <td>60.000000</td>\n",
       "      <td>5304.000000</td>\n",
       "      <td>5.020000</td>\n",
       "      <td>33217.405018</td>\n",
       "      <td>68.000000</td>\n",
       "      <td>0.680000</td>\n",
       "      <td>4.100000</td>\n",
       "      <td>...</td>\n",
       "      <td>35.0</td>\n",
       "      <td>40.0</td>\n",
       "      <td>140.000000</td>\n",
       "      <td>125.000000</td>\n",
       "      <td>63.000000</td>\n",
       "      <td>155.000000</td>\n",
       "      <td>25.000000</td>\n",
       "      <td>3.000000</td>\n",
       "      <td>1.000000</td>\n",
       "      <td>1.000000</td>\n",
       "    </tr>\n",
       "    <tr>\n",
       "      <th>50%</th>\n",
       "      <td>78643.000000</td>\n",
       "      <td>8.400000</td>\n",
       "      <td>8.400000</td>\n",
       "      <td>106.000000</td>\n",
       "      <td>9370.400000</td>\n",
       "      <td>7.780000</td>\n",
       "      <td>56397.702304</td>\n",
       "      <td>84.000000</td>\n",
       "      <td>0.840000</td>\n",
       "      <td>4.300000</td>\n",
       "      <td>...</td>\n",
       "      <td>35.0</td>\n",
       "      <td>40.0</td>\n",
       "      <td>165.000000</td>\n",
       "      <td>150.000000</td>\n",
       "      <td>66.000000</td>\n",
       "      <td>185.000000</td>\n",
       "      <td>38.000000</td>\n",
       "      <td>3.000000</td>\n",
       "      <td>2.000000</td>\n",
       "      <td>2.000000</td>\n",
       "    </tr>\n",
       "    <tr>\n",
       "      <th>75%</th>\n",
       "      <td>81191.000000</td>\n",
       "      <td>17.625000</td>\n",
       "      <td>17.625000</td>\n",
       "      <td>163.000000</td>\n",
       "      <td>14409.200000</td>\n",
       "      <td>15.295000</td>\n",
       "      <td>99356.561999</td>\n",
       "      <td>101.000000</td>\n",
       "      <td>1.010000</td>\n",
       "      <td>4.500000</td>\n",
       "      <td>...</td>\n",
       "      <td>35.0</td>\n",
       "      <td>40.0</td>\n",
       "      <td>198.000000</td>\n",
       "      <td>180.000000</td>\n",
       "      <td>70.000000</td>\n",
       "      <td>225.000000</td>\n",
       "      <td>53.000000</td>\n",
       "      <td>3.000000</td>\n",
       "      <td>3.000000</td>\n",
       "      <td>2.000000</td>\n",
       "    </tr>\n",
       "    <tr>\n",
       "      <th>max</th>\n",
       "      <td>83731.000000</td>\n",
       "      <td>9600.000000</td>\n",
       "      <td>9600.000000</td>\n",
       "      <td>659.000000</td>\n",
       "      <td>58255.600000</td>\n",
       "      <td>9000.000000</td>\n",
       "      <td>395978.465792</td>\n",
       "      <td>234.000000</td>\n",
       "      <td>2.340000</td>\n",
       "      <td>5.600000</td>\n",
       "      <td>...</td>\n",
       "      <td>35.0</td>\n",
       "      <td>40.0</td>\n",
       "      <td>9999.000000</td>\n",
       "      <td>9999.000000</td>\n",
       "      <td>9999.000000</td>\n",
       "      <td>9999.000000</td>\n",
       "      <td>99999.000000</td>\n",
       "      <td>9.000000</td>\n",
       "      <td>9.000000</td>\n",
       "      <td>9.000000</td>\n",
       "    </tr>\n",
       "  </tbody>\n",
       "</table>\n",
       "<p>8 rows × 1781 columns</p>\n",
       "</div>"
      ],
      "text/plain": [
       "               SEQN       URXUMA       URXUMS     URXUCR.x        URXCRS  \\\n",
       "count   9813.000000  8052.000000  8052.000000  8052.000000   8052.000000   \n",
       "mean   78644.559971    41.218854    41.218854   121.072529  10702.811525   \n",
       "std     2938.592266   238.910226   238.910226    78.574882   6946.019595   \n",
       "min    73557.000000     0.210000     0.210000     5.000000    442.000000   \n",
       "25%    76092.000000     4.500000     4.500000    60.000000   5304.000000   \n",
       "50%    78643.000000     8.400000     8.400000   106.000000   9370.400000   \n",
       "75%    81191.000000    17.625000    17.625000   163.000000  14409.200000   \n",
       "max    83731.000000  9600.000000  9600.000000   659.000000  58255.600000   \n",
       "\n",
       "            URDACT     WTSAF2YR.x       LBXAPB     LBDAPBSI       LBXSAL  ...  \\\n",
       "count  8052.000000    3329.000000  3145.000000  3145.000000  6553.000000  ...   \n",
       "mean     41.905695   78917.195254    85.898569     0.858986     4.282085  ...   \n",
       "std     276.261093   71088.020067    25.595258     0.255953     0.343649  ...   \n",
       "min       0.210000       0.000000    20.000000     0.200000     2.400000  ...   \n",
       "25%       5.020000   33217.405018    68.000000     0.680000     4.100000  ...   \n",
       "50%       7.780000   56397.702304    84.000000     0.840000     4.300000  ...   \n",
       "75%      15.295000   99356.561999   101.000000     1.010000     4.500000  ...   \n",
       "max    9000.000000  395978.465792   234.000000     2.340000     5.600000  ...   \n",
       "\n",
       "       WHD080U  WHD080L       WHD110       WHD120       WHD130       WHD140  \\\n",
       "count     14.0     28.0  4036.000000  4842.000000  2667.000000  5879.000000   \n",
       "mean      35.0     40.0   413.440287   567.920074   373.831646   315.447355   \n",
       "std        0.0      0.0  1511.368399  1975.492188  1716.831150  1075.040013   \n",
       "min       35.0     40.0    75.000000    55.000000    50.000000    85.000000   \n",
       "25%       35.0     40.0   140.000000   125.000000    63.000000   155.000000   \n",
       "50%       35.0     40.0   165.000000   150.000000    66.000000   185.000000   \n",
       "75%       35.0     40.0   198.000000   180.000000    70.000000   225.000000   \n",
       "max       35.0     40.0  9999.000000  9999.000000  9999.000000  9999.000000   \n",
       "\n",
       "             WHQ150      WHQ030M       WHQ500       WHQ520  \n",
       "count   5800.000000  1424.000000  1424.000000  1424.000000  \n",
       "mean     574.222069     2.586376     2.295646     1.747893  \n",
       "std     7288.930842     0.782529     1.210905     0.707600  \n",
       "min       10.000000     1.000000     1.000000     1.000000  \n",
       "25%       25.000000     3.000000     1.000000     1.000000  \n",
       "50%       38.000000     3.000000     2.000000     2.000000  \n",
       "75%       53.000000     3.000000     3.000000     2.000000  \n",
       "max    99999.000000     9.000000     9.000000     9.000000  \n",
       "\n",
       "[8 rows x 1781 columns]"
      ]
     },
     "execution_count": 8,
     "metadata": {},
     "output_type": "execute_result"
    }
   ],
   "source": [
    "df.describe()"
   ]
  },
  {
   "cell_type": "code",
   "execution_count": 9,
   "metadata": {},
   "outputs": [
    {
     "name": "stdout",
     "output_type": "stream",
     "text": [
      "<class 'pandas.core.frame.DataFrame'>\n",
      "RangeIndex: 9813 entries, 0 to 9812\n",
      "Columns: 1812 entries, SEQN to WHQ520\n",
      "dtypes: float64(1753), int64(28), object(31)\n",
      "memory usage: 135.7+ MB\n"
     ]
    }
   ],
   "source": [
    "df.info()"
   ]
  },
  {
   "cell_type": "code",
   "execution_count": 10,
   "metadata": {
    "colab": {
     "base_uri": "https://localhost:8080/",
     "height": 284
    },
    "executionInfo": {
     "elapsed": 443,
     "status": "ok",
     "timestamp": 1603946523957,
     "user": {
      "displayName": "Rajeev Ratan",
      "photoUrl": "https://lh3.googleusercontent.com/a-/AOh14GhBYJnwdIGYSJdvGmzIt64rYSF1dDuiFyfRw4Rpeg=s64",
      "userId": "08597265227091462140"
     },
     "user_tz": 240
    },
    "id": "xpaqNjvykzAi",
    "outputId": "e1fad551-1a60-485c-d73b-cdf15847346f"
   },
   "outputs": [
    {
     "data": {
      "text/html": [
       "<div>\n",
       "<style scoped>\n",
       "    .dataframe tbody tr th:only-of-type {\n",
       "        vertical-align: middle;\n",
       "    }\n",
       "\n",
       "    .dataframe tbody tr th {\n",
       "        vertical-align: top;\n",
       "    }\n",
       "\n",
       "    .dataframe thead th {\n",
       "        text-align: right;\n",
       "    }\n",
       "</style>\n",
       "<table border=\"1\" class=\"dataframe\">\n",
       "  <thead>\n",
       "    <tr style=\"text-align: right;\">\n",
       "      <th></th>\n",
       "      <th>ID</th>\n",
       "      <th>Gender</th>\n",
       "      <th>Years_in_US</th>\n",
       "      <th>Family_income</th>\n",
       "      <th>GlycoHemoglobin</th>\n",
       "      <th>ArmCircum</th>\n",
       "      <th>SagittalAbdominal</th>\n",
       "      <th>GripStrength</th>\n",
       "      <th>Breast_fed</th>\n",
       "    </tr>\n",
       "  </thead>\n",
       "  <tbody>\n",
       "    <tr>\n",
       "      <th>count</th>\n",
       "      <td>9813.000000</td>\n",
       "      <td>9813.000000</td>\n",
       "      <td>1837.000000</td>\n",
       "      <td>9051.000000</td>\n",
       "      <td>6643.000000</td>\n",
       "      <td>9301.000000</td>\n",
       "      <td>7218.000000</td>\n",
       "      <td>7677.000000</td>\n",
       "      <td>8661.000000</td>\n",
       "    </tr>\n",
       "    <tr>\n",
       "      <th>mean</th>\n",
       "      <td>78644.559971</td>\n",
       "      <td>1.509426</td>\n",
       "      <td>8.933043</td>\n",
       "      <td>2.253101</td>\n",
       "      <td>5.642556</td>\n",
       "      <td>28.485765</td>\n",
       "      <td>21.114034</td>\n",
       "      <td>63.054891</td>\n",
       "      <td>1.984528</td>\n",
       "    </tr>\n",
       "    <tr>\n",
       "      <th>std</th>\n",
       "      <td>2938.592266</td>\n",
       "      <td>0.499937</td>\n",
       "      <td>17.787060</td>\n",
       "      <td>1.635458</td>\n",
       "      <td>1.004850</td>\n",
       "      <td>7.961971</td>\n",
       "      <td>4.963949</td>\n",
       "      <td>25.098439</td>\n",
       "      <td>0.123426</td>\n",
       "    </tr>\n",
       "    <tr>\n",
       "      <th>min</th>\n",
       "      <td>73557.000000</td>\n",
       "      <td>1.000000</td>\n",
       "      <td>1.000000</td>\n",
       "      <td>0.000000</td>\n",
       "      <td>3.500000</td>\n",
       "      <td>10.400000</td>\n",
       "      <td>10.100000</td>\n",
       "      <td>8.000000</td>\n",
       "      <td>1.000000</td>\n",
       "    </tr>\n",
       "    <tr>\n",
       "      <th>25%</th>\n",
       "      <td>76092.000000</td>\n",
       "      <td>1.000000</td>\n",
       "      <td>3.000000</td>\n",
       "      <td>0.870000</td>\n",
       "      <td>5.200000</td>\n",
       "      <td>22.600000</td>\n",
       "      <td>17.300000</td>\n",
       "      <td>45.600000</td>\n",
       "      <td>2.000000</td>\n",
       "    </tr>\n",
       "    <tr>\n",
       "      <th>50%</th>\n",
       "      <td>78643.000000</td>\n",
       "      <td>2.000000</td>\n",
       "      <td>5.000000</td>\n",
       "      <td>1.710000</td>\n",
       "      <td>5.400000</td>\n",
       "      <td>29.300000</td>\n",
       "      <td>20.700000</td>\n",
       "      <td>60.300000</td>\n",
       "      <td>2.000000</td>\n",
       "    </tr>\n",
       "    <tr>\n",
       "      <th>75%</th>\n",
       "      <td>81191.000000</td>\n",
       "      <td>2.000000</td>\n",
       "      <td>7.000000</td>\n",
       "      <td>3.610000</td>\n",
       "      <td>5.800000</td>\n",
       "      <td>34.000000</td>\n",
       "      <td>24.400000</td>\n",
       "      <td>80.700000</td>\n",
       "      <td>2.000000</td>\n",
       "    </tr>\n",
       "    <tr>\n",
       "      <th>max</th>\n",
       "      <td>83731.000000</td>\n",
       "      <td>2.000000</td>\n",
       "      <td>99.000000</td>\n",
       "      <td>5.000000</td>\n",
       "      <td>17.500000</td>\n",
       "      <td>59.400000</td>\n",
       "      <td>40.100000</td>\n",
       "      <td>162.800000</td>\n",
       "      <td>2.000000</td>\n",
       "    </tr>\n",
       "  </tbody>\n",
       "</table>\n",
       "</div>"
      ],
      "text/plain": [
       "                 ID       Gender  Years_in_US  Family_income  GlycoHemoglobin  \\\n",
       "count   9813.000000  9813.000000  1837.000000    9051.000000      6643.000000   \n",
       "mean   78644.559971     1.509426     8.933043       2.253101         5.642556   \n",
       "std     2938.592266     0.499937    17.787060       1.635458         1.004850   \n",
       "min    73557.000000     1.000000     1.000000       0.000000         3.500000   \n",
       "25%    76092.000000     1.000000     3.000000       0.870000         5.200000   \n",
       "50%    78643.000000     2.000000     5.000000       1.710000         5.400000   \n",
       "75%    81191.000000     2.000000     7.000000       3.610000         5.800000   \n",
       "max    83731.000000     2.000000    99.000000       5.000000        17.500000   \n",
       "\n",
       "         ArmCircum  SagittalAbdominal  GripStrength   Breast_fed  \n",
       "count  9301.000000        7218.000000   7677.000000  8661.000000  \n",
       "mean     28.485765          21.114034     63.054891     1.984528  \n",
       "std       7.961971           4.963949     25.098439     0.123426  \n",
       "min      10.400000          10.100000      8.000000     1.000000  \n",
       "25%      22.600000          17.300000     45.600000     2.000000  \n",
       "50%      29.300000          20.700000     60.300000     2.000000  \n",
       "75%      34.000000          24.400000     80.700000     2.000000  \n",
       "max      59.400000          40.100000    162.800000     2.000000  "
      ]
     },
     "execution_count": 10,
     "metadata": {},
     "output_type": "execute_result"
    }
   ],
   "source": [
    "# drop na from all axis \n",
    "df.dropna(axis=1, how='all')\n",
    "df.dropna(axis=0, how='all')\n",
    "# importance columns - for the Diabetes pred\n",
    "df = df.rename(columns = {'SEQN' : 'ID',\n",
    "                          'RIAGENDR' : 'Gender',\n",
    "                          'DMDYRSUS' : 'Years_in_US', # Nan -> american i guess\n",
    "                          'INDFMPIR' : 'Family_income',\n",
    "                          'LBXGH' : 'GlycoHemoglobin', # test result that tells whether have Diabetes or not\n",
    "                          'BMXARMC' : 'ArmCircum',\n",
    "                          'BMDAVSAD' : 'SagittalAbdominal',\n",
    "                          'MGDCGSZ' : 'GripStrength',\n",
    "                          'DRABF' : 'Breast_fed'})\n",
    "\n",
    "df = df.loc[:, ['ID', 'Gender', 'Years_in_US', 'Family_income','GlycoHemoglobin', 'ArmCircum', \n",
    "                'SagittalAbdominal', 'GripStrength', 'Breast_fed']]\n",
    "\n",
    "df.describe()"
   ]
  },
  {
   "cell_type": "markdown",
   "metadata": {
    "id": "v5m9i0MVlDWh"
   },
   "source": [
    "https://en.wikipedia.org/wiki/Glycated_hemoglobin\n",
    "\n",
    "Use Glycohemoglobin to classify Diabetes \n",
    "- 0-> Normal status \n",
    "- 1-> High-risk diabetes \n",
    "- 2-> Diabetes patients¶\n"
   ]
  },
  {
   "cell_type": "code",
   "execution_count": 11,
   "metadata": {
    "colab": {
     "base_uri": "https://localhost:8080/",
     "height": 284
    },
    "executionInfo": {
     "elapsed": 10030,
     "status": "ok",
     "timestamp": 1603946094505,
     "user": {
      "displayName": "Rajeev Ratan",
      "photoUrl": "https://lh3.googleusercontent.com/a-/AOh14GhBYJnwdIGYSJdvGmzIt64rYSF1dDuiFyfRw4Rpeg=s64",
      "userId": "08597265227091462140"
     },
     "user_tz": 240
    },
    "id": "9OKJmsPtk9Jq",
    "outputId": "ac711c84-0926-4f49-f37c-4e3db65512ee"
   },
   "outputs": [
    {
     "data": {
      "text/html": [
       "<div>\n",
       "<style scoped>\n",
       "    .dataframe tbody tr th:only-of-type {\n",
       "        vertical-align: middle;\n",
       "    }\n",
       "\n",
       "    .dataframe tbody tr th {\n",
       "        vertical-align: top;\n",
       "    }\n",
       "\n",
       "    .dataframe thead th {\n",
       "        text-align: right;\n",
       "    }\n",
       "</style>\n",
       "<table border=\"1\" class=\"dataframe\">\n",
       "  <thead>\n",
       "    <tr style=\"text-align: right;\">\n",
       "      <th></th>\n",
       "      <th>ID</th>\n",
       "      <th>Gender</th>\n",
       "      <th>Years_in_US</th>\n",
       "      <th>Family_income</th>\n",
       "      <th>GlycoHemoglobin</th>\n",
       "      <th>ArmCircum</th>\n",
       "      <th>SagittalAbdominal</th>\n",
       "      <th>GripStrength</th>\n",
       "      <th>Breast_fed</th>\n",
       "    </tr>\n",
       "  </thead>\n",
       "  <tbody>\n",
       "    <tr>\n",
       "      <th>count</th>\n",
       "      <td>9813.000000</td>\n",
       "      <td>9813.000000</td>\n",
       "      <td>9813.000000</td>\n",
       "      <td>9813.000000</td>\n",
       "      <td>9813.000000</td>\n",
       "      <td>9813.000000</td>\n",
       "      <td>9813.000000</td>\n",
       "      <td>9813.000000</td>\n",
       "      <td>9813.000000</td>\n",
       "    </tr>\n",
       "    <tr>\n",
       "      <th>mean</th>\n",
       "      <td>78644.559971</td>\n",
       "      <td>1.509426</td>\n",
       "      <td>1.672271</td>\n",
       "      <td>2.246973</td>\n",
       "      <td>5.564201</td>\n",
       "      <td>28.528248</td>\n",
       "      <td>21.004545</td>\n",
       "      <td>62.455233</td>\n",
       "      <td>1.868949</td>\n",
       "    </tr>\n",
       "    <tr>\n",
       "      <th>std</th>\n",
       "      <td>2938.592266</td>\n",
       "      <td>0.499937</td>\n",
       "      <td>8.446506</td>\n",
       "      <td>1.635495</td>\n",
       "      <td>0.834491</td>\n",
       "      <td>7.753571</td>\n",
       "      <td>4.261142</td>\n",
       "      <td>22.228196</td>\n",
       "      <td>0.337473</td>\n",
       "    </tr>\n",
       "    <tr>\n",
       "      <th>min</th>\n",
       "      <td>73557.000000</td>\n",
       "      <td>1.000000</td>\n",
       "      <td>0.000000</td>\n",
       "      <td>0.000000</td>\n",
       "      <td>3.500000</td>\n",
       "      <td>10.400000</td>\n",
       "      <td>10.100000</td>\n",
       "      <td>8.000000</td>\n",
       "      <td>1.000000</td>\n",
       "    </tr>\n",
       "    <tr>\n",
       "      <th>25%</th>\n",
       "      <td>76092.000000</td>\n",
       "      <td>1.000000</td>\n",
       "      <td>0.000000</td>\n",
       "      <td>0.870000</td>\n",
       "      <td>5.300000</td>\n",
       "      <td>23.200000</td>\n",
       "      <td>18.500000</td>\n",
       "      <td>50.300000</td>\n",
       "      <td>2.000000</td>\n",
       "    </tr>\n",
       "    <tr>\n",
       "      <th>50%</th>\n",
       "      <td>78643.000000</td>\n",
       "      <td>2.000000</td>\n",
       "      <td>0.000000</td>\n",
       "      <td>1.700000</td>\n",
       "      <td>5.400000</td>\n",
       "      <td>29.300000</td>\n",
       "      <td>20.700000</td>\n",
       "      <td>60.300000</td>\n",
       "      <td>2.000000</td>\n",
       "    </tr>\n",
       "    <tr>\n",
       "      <th>75%</th>\n",
       "      <td>81191.000000</td>\n",
       "      <td>2.000000</td>\n",
       "      <td>0.000000</td>\n",
       "      <td>3.600000</td>\n",
       "      <td>5.600000</td>\n",
       "      <td>33.800000</td>\n",
       "      <td>22.900000</td>\n",
       "      <td>73.300000</td>\n",
       "      <td>2.000000</td>\n",
       "    </tr>\n",
       "    <tr>\n",
       "      <th>max</th>\n",
       "      <td>83731.000000</td>\n",
       "      <td>2.000000</td>\n",
       "      <td>99.000000</td>\n",
       "      <td>5.000000</td>\n",
       "      <td>17.500000</td>\n",
       "      <td>59.400000</td>\n",
       "      <td>40.100000</td>\n",
       "      <td>162.800000</td>\n",
       "      <td>2.000000</td>\n",
       "    </tr>\n",
       "  </tbody>\n",
       "</table>\n",
       "</div>"
      ],
      "text/plain": [
       "                 ID       Gender  Years_in_US  Family_income  GlycoHemoglobin  \\\n",
       "count   9813.000000  9813.000000  9813.000000    9813.000000      9813.000000   \n",
       "mean   78644.559971     1.509426     1.672271       2.246973         5.564201   \n",
       "std     2938.592266     0.499937     8.446506       1.635495         0.834491   \n",
       "min    73557.000000     1.000000     0.000000       0.000000         3.500000   \n",
       "25%    76092.000000     1.000000     0.000000       0.870000         5.300000   \n",
       "50%    78643.000000     2.000000     0.000000       1.700000         5.400000   \n",
       "75%    81191.000000     2.000000     0.000000       3.600000         5.600000   \n",
       "max    83731.000000     2.000000    99.000000       5.000000        17.500000   \n",
       "\n",
       "         ArmCircum  SagittalAbdominal  GripStrength   Breast_fed  \n",
       "count  9813.000000        9813.000000   9813.000000  9813.000000  \n",
       "mean     28.528248          21.004545     62.455233     1.868949  \n",
       "std       7.753571           4.261142     22.228196     0.337473  \n",
       "min      10.400000          10.100000      8.000000     1.000000  \n",
       "25%      23.200000          18.500000     50.300000     2.000000  \n",
       "50%      29.300000          20.700000     60.300000     2.000000  \n",
       "75%      33.800000          22.900000     73.300000     2.000000  \n",
       "max      59.400000          40.100000    162.800000     2.000000  "
      ]
     },
     "execution_count": 11,
     "metadata": {},
     "output_type": "execute_result"
    }
   ],
   "source": [
    "from sklearn.feature_selection import VarianceThreshold\n",
    "# https://scikit-learn.org/stable/modules/generated/sklearn.feature_selection.VarianceThreshold.html\n",
    "# remove all features that have little variants, if featre has no var it drops it from df. (\"like pca\" but just delete)\n",
    "\n",
    "#year in us -> american : 0, not american : 1\n",
    "df.dropna(axis=1, how='all')\n",
    "df.dropna(axis=0, how='all')\n",
    "\n",
    "df['Years_in_US'] = df['Years_in_US'].apply(lambda x: x if x > 0 else 0)\n",
    "\n",
    "# fillna\n",
    "#GlycoHemoglobin, Saggital Abdominal(median)\n",
    "df['GlycoHemoglobin'] = df['GlycoHemoglobin'].fillna(df['GlycoHemoglobin'].median())\n",
    "df['SagittalAbdominal'] = df['SagittalAbdominal'].fillna(df['SagittalAbdominal'].median())\n",
    "df['ArmCircum'] = df['ArmCircum'].fillna(df['ArmCircum'].median())\n",
    "df['GripStrength'] = df['GripStrength'].fillna(df['GripStrength'].median())\n",
    "\n",
    "#Family Income -> use ffill to fill na\n",
    "df['Family_income'] = df['Family_income'].fillna(method='ffill')\n",
    "\n",
    "#Breat_fed -> fill to 1\n",
    "df['Breast_fed'] = df['Breast_fed'].fillna(value = 1)\n",
    "\n",
    "# removed all features with low variance which leaves us with the dataframe below\n",
    "# Features with a training-set variance lower than this threshold will be removed.\n",
    "sel = VarianceThreshold(threshold=(0.15))\n",
    "sel.fit_transform(df)\n",
    "\n",
    "df.describe()"
   ]
  },
  {
   "cell_type": "code",
   "execution_count": 12,
   "metadata": {
    "colab": {
     "base_uri": "https://localhost:8080/",
     "height": 343
    },
    "executionInfo": {
     "elapsed": 396,
     "status": "ok",
     "timestamp": 1603946636216,
     "user": {
      "displayName": "Rajeev Ratan",
      "photoUrl": "https://lh3.googleusercontent.com/a-/AOh14GhBYJnwdIGYSJdvGmzIt64rYSF1dDuiFyfRw4Rpeg=s64",
      "userId": "08597265227091462140"
     },
     "user_tz": 240
    },
    "id": "JC33QedVlGQZ",
    "outputId": "45d209fc-bf39-43a7-be95-3dc182a3e717"
   },
   "outputs": [
    {
     "data": {
      "text/html": [
       "<div>\n",
       "<style scoped>\n",
       "    .dataframe tbody tr th:only-of-type {\n",
       "        vertical-align: middle;\n",
       "    }\n",
       "\n",
       "    .dataframe tbody tr th {\n",
       "        vertical-align: top;\n",
       "    }\n",
       "\n",
       "    .dataframe thead th {\n",
       "        text-align: right;\n",
       "    }\n",
       "</style>\n",
       "<table border=\"1\" class=\"dataframe\">\n",
       "  <thead>\n",
       "    <tr style=\"text-align: right;\">\n",
       "      <th></th>\n",
       "      <th>ID</th>\n",
       "      <th>Gender</th>\n",
       "      <th>Years_in_US</th>\n",
       "      <th>Family_income</th>\n",
       "      <th>GlycoHemoglobin</th>\n",
       "      <th>ArmCircum</th>\n",
       "      <th>SagittalAbdominal</th>\n",
       "      <th>GripStrength</th>\n",
       "      <th>Breast_fed</th>\n",
       "      <th>Diabetes</th>\n",
       "    </tr>\n",
       "  </thead>\n",
       "  <tbody>\n",
       "    <tr>\n",
       "      <th>0</th>\n",
       "      <td>73557</td>\n",
       "      <td>1</td>\n",
       "      <td>0.0</td>\n",
       "      <td>0.84</td>\n",
       "      <td>13.9</td>\n",
       "      <td>35.3</td>\n",
       "      <td>20.6</td>\n",
       "      <td>55.2</td>\n",
       "      <td>2.0</td>\n",
       "      <td>2.0</td>\n",
       "    </tr>\n",
       "    <tr>\n",
       "      <th>1</th>\n",
       "      <td>73558</td>\n",
       "      <td>1</td>\n",
       "      <td>0.0</td>\n",
       "      <td>1.78</td>\n",
       "      <td>9.1</td>\n",
       "      <td>34.7</td>\n",
       "      <td>24.4</td>\n",
       "      <td>61.5</td>\n",
       "      <td>2.0</td>\n",
       "      <td>2.0</td>\n",
       "    </tr>\n",
       "    <tr>\n",
       "      <th>2</th>\n",
       "      <td>73559</td>\n",
       "      <td>1</td>\n",
       "      <td>0.0</td>\n",
       "      <td>4.51</td>\n",
       "      <td>8.9</td>\n",
       "      <td>33.5</td>\n",
       "      <td>25.6</td>\n",
       "      <td>91.0</td>\n",
       "      <td>2.0</td>\n",
       "      <td>2.0</td>\n",
       "    </tr>\n",
       "    <tr>\n",
       "      <th>3</th>\n",
       "      <td>73560</td>\n",
       "      <td>1</td>\n",
       "      <td>0.0</td>\n",
       "      <td>2.52</td>\n",
       "      <td>5.4</td>\n",
       "      <td>21.0</td>\n",
       "      <td>14.9</td>\n",
       "      <td>32.2</td>\n",
       "      <td>2.0</td>\n",
       "      <td>0.0</td>\n",
       "    </tr>\n",
       "    <tr>\n",
       "      <th>4</th>\n",
       "      <td>73561</td>\n",
       "      <td>2</td>\n",
       "      <td>0.0</td>\n",
       "      <td>5.00</td>\n",
       "      <td>4.9</td>\n",
       "      <td>25.2</td>\n",
       "      <td>20.7</td>\n",
       "      <td>30.9</td>\n",
       "      <td>2.0</td>\n",
       "      <td>0.0</td>\n",
       "    </tr>\n",
       "    <tr>\n",
       "      <th>5</th>\n",
       "      <td>73562</td>\n",
       "      <td>1</td>\n",
       "      <td>0.0</td>\n",
       "      <td>4.79</td>\n",
       "      <td>5.5</td>\n",
       "      <td>41.8</td>\n",
       "      <td>29.1</td>\n",
       "      <td>53.1</td>\n",
       "      <td>2.0</td>\n",
       "      <td>0.0</td>\n",
       "    </tr>\n",
       "    <tr>\n",
       "      <th>6</th>\n",
       "      <td>73563</td>\n",
       "      <td>1</td>\n",
       "      <td>0.0</td>\n",
       "      <td>5.00</td>\n",
       "      <td>5.4</td>\n",
       "      <td>14.9</td>\n",
       "      <td>20.7</td>\n",
       "      <td>60.3</td>\n",
       "      <td>1.0</td>\n",
       "      <td>0.0</td>\n",
       "    </tr>\n",
       "    <tr>\n",
       "      <th>7</th>\n",
       "      <td>73564</td>\n",
       "      <td>2</td>\n",
       "      <td>0.0</td>\n",
       "      <td>5.00</td>\n",
       "      <td>5.5</td>\n",
       "      <td>38.0</td>\n",
       "      <td>26.7</td>\n",
       "      <td>45.9</td>\n",
       "      <td>2.0</td>\n",
       "      <td>0.0</td>\n",
       "    </tr>\n",
       "    <tr>\n",
       "      <th>8</th>\n",
       "      <td>73566</td>\n",
       "      <td>1</td>\n",
       "      <td>0.0</td>\n",
       "      <td>5.00</td>\n",
       "      <td>5.4</td>\n",
       "      <td>29.0</td>\n",
       "      <td>19.9</td>\n",
       "      <td>38.8</td>\n",
       "      <td>2.0</td>\n",
       "      <td>0.0</td>\n",
       "    </tr>\n",
       "    <tr>\n",
       "      <th>9</th>\n",
       "      <td>73567</td>\n",
       "      <td>2</td>\n",
       "      <td>0.0</td>\n",
       "      <td>0.48</td>\n",
       "      <td>5.2</td>\n",
       "      <td>27.5</td>\n",
       "      <td>20.0</td>\n",
       "      <td>43.5</td>\n",
       "      <td>2.0</td>\n",
       "      <td>0.0</td>\n",
       "    </tr>\n",
       "  </tbody>\n",
       "</table>\n",
       "</div>"
      ],
      "text/plain": [
       "      ID  Gender  Years_in_US  Family_income  GlycoHemoglobin  ArmCircum  \\\n",
       "0  73557       1          0.0           0.84             13.9       35.3   \n",
       "1  73558       1          0.0           1.78              9.1       34.7   \n",
       "2  73559       1          0.0           4.51              8.9       33.5   \n",
       "3  73560       1          0.0           2.52              5.4       21.0   \n",
       "4  73561       2          0.0           5.00              4.9       25.2   \n",
       "5  73562       1          0.0           4.79              5.5       41.8   \n",
       "6  73563       1          0.0           5.00              5.4       14.9   \n",
       "7  73564       2          0.0           5.00              5.5       38.0   \n",
       "8  73566       1          0.0           5.00              5.4       29.0   \n",
       "9  73567       2          0.0           0.48              5.2       27.5   \n",
       "\n",
       "   SagittalAbdominal  GripStrength  Breast_fed  Diabetes  \n",
       "0               20.6          55.2         2.0       2.0  \n",
       "1               24.4          61.5         2.0       2.0  \n",
       "2               25.6          91.0         2.0       2.0  \n",
       "3               14.9          32.2         2.0       0.0  \n",
       "4               20.7          30.9         2.0       0.0  \n",
       "5               29.1          53.1         2.0       0.0  \n",
       "6               20.7          60.3         1.0       0.0  \n",
       "7               26.7          45.9         2.0       0.0  \n",
       "8               19.9          38.8         2.0       0.0  \n",
       "9               20.0          43.5         2.0       0.0  "
      ]
     },
     "execution_count": 12,
     "metadata": {},
     "output_type": "execute_result"
    }
   ],
   "source": [
    "# definition of diabetes\n",
    "df.loc[df['GlycoHemoglobin'] < 6.0, 'Diabetes'] = 0\n",
    "df.loc[(df['GlycoHemoglobin'] >= 6.0) & (df['GlycoHemoglobin'] <= 6.4), 'Diabetes'] = 1\n",
    "df.loc[df['GlycoHemoglobin'] >= 6.5, 'Diabetes'] = 2\n",
    "\n",
    "df.head(10)"
   ]
  },
  {
   "cell_type": "code",
   "execution_count": 13,
   "metadata": {
    "colab": {
     "base_uri": "https://localhost:8080/",
     "height": 648
    },
    "executionInfo": {
     "elapsed": 10936,
     "status": "ok",
     "timestamp": 1603946095436,
     "user": {
      "displayName": "Rajeev Ratan",
      "photoUrl": "https://lh3.googleusercontent.com/a-/AOh14GhBYJnwdIGYSJdvGmzIt64rYSF1dDuiFyfRw4Rpeg=s64",
      "userId": "08597265227091462140"
     },
     "user_tz": 240
    },
    "id": "TFolq_j1myxG",
    "outputId": "f60d5f9e-0dc5-468f-9d4b-2db6919575ef"
   },
   "outputs": [
    {
     "data": {
      "text/plain": [
       "<matplotlib.axes._subplots.AxesSubplot at 0x24faa388648>"
      ]
     },
     "execution_count": 13,
     "metadata": {},
     "output_type": "execute_result"
    },
    {
     "data": {
      "image/png": "[encoded data removed]",
      "text/plain": [
       "<Figure size 720x720 with 2 Axes>"
      ]
     },
     "metadata": {
      "needs_background": "light"
     },
     "output_type": "display_data"
    }
   ],
   "source": [
    "plt.figure(figsize=(10,10))\n",
    "sns.heatmap(df.astype(float).drop(axis=1, labels='ID').corr(), linewidths=0.1, vmax=1.0,\n",
    "            square=True, cmap='viridis', annot=True)"
   ]
  },
  {
   "cell_type": "markdown",
   "metadata": {
    "id": "3eUTZ7R2j567"
   },
   "source": [
    "# Creating Model"
   ]
  },
  {
   "cell_type": "code",
   "execution_count": 14,
   "metadata": {
    "executionInfo": {
     "elapsed": 10930,
     "status": "ok",
     "timestamp": 1603946095437,
     "user": {
      "displayName": "Rajeev Ratan",
      "photoUrl": "https://lh3.googleusercontent.com/a-/AOh14GhBYJnwdIGYSJdvGmzIt64rYSF1dDuiFyfRw4Rpeg=s64",
      "userId": "08597265227091462140"
     },
     "user_tz": 240
    },
    "id": "JdQr4CMVlR4F"
   },
   "outputs": [],
   "source": [
    "from sklearn.svm import SVC\n",
    "from sklearn.model_selection import KFold\n",
    "from sklearn.metrics import mean_squared_error, r2_score"
   ]
  },
  {
   "cell_type": "code",
   "execution_count": 15,
   "metadata": {
    "colab": {
     "base_uri": "https://localhost:8080/",
     "height": 195
    },
    "executionInfo": {
     "elapsed": 10924,
     "status": "ok",
     "timestamp": 1603946095438,
     "user": {
      "displayName": "Rajeev Ratan",
      "photoUrl": "https://lh3.googleusercontent.com/a-/AOh14GhBYJnwdIGYSJdvGmzIt64rYSF1dDuiFyfRw4Rpeg=s64",
      "userId": "08597265227091462140"
     },
     "user_tz": 240
    },
    "id": "mPzBmWDolTV3",
    "outputId": "ce702cc3-831b-4b24-ef50-1f021caa9239"
   },
   "outputs": [
    {
     "data": {
      "text/html": [
       "<div>\n",
       "<style scoped>\n",
       "    .dataframe tbody tr th:only-of-type {\n",
       "        vertical-align: middle;\n",
       "    }\n",
       "\n",
       "    .dataframe tbody tr th {\n",
       "        vertical-align: top;\n",
       "    }\n",
       "\n",
       "    .dataframe thead th {\n",
       "        text-align: right;\n",
       "    }\n",
       "</style>\n",
       "<table border=\"1\" class=\"dataframe\">\n",
       "  <thead>\n",
       "    <tr style=\"text-align: right;\">\n",
       "      <th></th>\n",
       "      <th>ID</th>\n",
       "      <th>Gender</th>\n",
       "      <th>Years_in_US</th>\n",
       "      <th>Family_income</th>\n",
       "      <th>ArmCircum</th>\n",
       "      <th>SagittalAbdominal</th>\n",
       "      <th>GripStrength</th>\n",
       "      <th>Breast_fed</th>\n",
       "      <th>Diabetes</th>\n",
       "    </tr>\n",
       "  </thead>\n",
       "  <tbody>\n",
       "    <tr>\n",
       "      <th>0</th>\n",
       "      <td>73557</td>\n",
       "      <td>1</td>\n",
       "      <td>0.0</td>\n",
       "      <td>0.84</td>\n",
       "      <td>35.3</td>\n",
       "      <td>20.6</td>\n",
       "      <td>55.2</td>\n",
       "      <td>2.0</td>\n",
       "      <td>2.0</td>\n",
       "    </tr>\n",
       "    <tr>\n",
       "      <th>1</th>\n",
       "      <td>73558</td>\n",
       "      <td>1</td>\n",
       "      <td>0.0</td>\n",
       "      <td>1.78</td>\n",
       "      <td>34.7</td>\n",
       "      <td>24.4</td>\n",
       "      <td>61.5</td>\n",
       "      <td>2.0</td>\n",
       "      <td>2.0</td>\n",
       "    </tr>\n",
       "    <tr>\n",
       "      <th>2</th>\n",
       "      <td>73559</td>\n",
       "      <td>1</td>\n",
       "      <td>0.0</td>\n",
       "      <td>4.51</td>\n",
       "      <td>33.5</td>\n",
       "      <td>25.6</td>\n",
       "      <td>91.0</td>\n",
       "      <td>2.0</td>\n",
       "      <td>2.0</td>\n",
       "    </tr>\n",
       "    <tr>\n",
       "      <th>3</th>\n",
       "      <td>73560</td>\n",
       "      <td>1</td>\n",
       "      <td>0.0</td>\n",
       "      <td>2.52</td>\n",
       "      <td>21.0</td>\n",
       "      <td>14.9</td>\n",
       "      <td>32.2</td>\n",
       "      <td>2.0</td>\n",
       "      <td>0.0</td>\n",
       "    </tr>\n",
       "    <tr>\n",
       "      <th>4</th>\n",
       "      <td>73561</td>\n",
       "      <td>2</td>\n",
       "      <td>0.0</td>\n",
       "      <td>5.00</td>\n",
       "      <td>25.2</td>\n",
       "      <td>20.7</td>\n",
       "      <td>30.9</td>\n",
       "      <td>2.0</td>\n",
       "      <td>0.0</td>\n",
       "    </tr>\n",
       "  </tbody>\n",
       "</table>\n",
       "</div>"
      ],
      "text/plain": [
       "      ID  Gender  Years_in_US  Family_income  ArmCircum  SagittalAbdominal  \\\n",
       "0  73557       1          0.0           0.84       35.3               20.6   \n",
       "1  73558       1          0.0           1.78       34.7               24.4   \n",
       "2  73559       1          0.0           4.51       33.5               25.6   \n",
       "3  73560       1          0.0           2.52       21.0               14.9   \n",
       "4  73561       2          0.0           5.00       25.2               20.7   \n",
       "\n",
       "   GripStrength  Breast_fed  Diabetes  \n",
       "0          55.2         2.0       2.0  \n",
       "1          61.5         2.0       2.0  \n",
       "2          91.0         2.0       2.0  \n",
       "3          32.2         2.0       0.0  \n",
       "4          30.9         2.0       0.0  "
      ]
     },
     "execution_count": 15,
     "metadata": {},
     "output_type": "execute_result"
    }
   ],
   "source": [
    "# drop GlycoHemoglobin because all ready make calculation for the Diabetes column.\n",
    "# doing that so the target will be Diabetes pred.\n",
    "df.drop(['GlycoHemoglobin'], axis = 1, inplace=True)\n",
    "\n",
    "df.head(5)"
   ]
  },
  {
   "cell_type": "markdown",
   "metadata": {
    "id": "r-xIyB9ckCqJ"
   },
   "source": [
    "### Linear Regression Model"
   ]
  },
  {
   "cell_type": "code",
   "execution_count": 16,
   "metadata": {
    "colab": {
     "base_uri": "https://localhost:8080/"
    },
    "executionInfo": {
     "elapsed": 10916,
     "status": "ok",
     "timestamp": 1603946095438,
     "user": {
      "displayName": "Rajeev Ratan",
      "photoUrl": "https://lh3.googleusercontent.com/a-/AOh14GhBYJnwdIGYSJdvGmzIt64rYSF1dDuiFyfRw4Rpeg=s64",
      "userId": "08597265227091462140"
     },
     "user_tz": 240
    },
    "id": "uiMkWnn4lUbM",
    "outputId": "6ef53bbf-e22f-40f7-b10a-e227557e2dbd"
   },
   "outputs": [],
   "source": [
    "from sklearn.linear_model import LinearRegression\n",
    "\n",
    "#data -> attributes, target -> diabetes\n",
    "data = df.drop(['Diabetes'], axis=1)\n",
    "target = df[['Diabetes']]"
   ]
  },
  {
   "cell_type": "code",
   "execution_count": 17,
   "metadata": {
    "scrolled": true
   },
   "outputs": [],
   "source": [
    "#data"
   ]
  },
  {
   "cell_type": "code",
   "execution_count": 18,
   "metadata": {},
   "outputs": [],
   "source": [
    "#target"
   ]
  },
  {
   "cell_type": "code",
   "execution_count": 19,
   "metadata": {},
   "outputs": [],
   "source": [
    "#seperate training set and test set ratio 75 to 25% \n",
    "train_X = data[:7300]\n",
    "test_X = data[7300:]\n",
    "train_Y = target[:7300]\n",
    "test_Y = target[7300:]"
   ]
  },
  {
   "cell_type": "code",
   "execution_count": 20,
   "metadata": {},
   "outputs": [
    {
     "data": {
      "text/plain": [
       "LinearRegression(copy_X=True, fit_intercept=True, n_jobs=None, normalize=False)"
      ]
     },
     "execution_count": 20,
     "metadata": {},
     "output_type": "execute_result"
    }
   ],
   "source": [
    "#create linear regression obj\n",
    "lr_regr = LinearRegression()\n",
    "\n",
    "#training via linear regression model\n",
    "lr_regr.fit(train_X, train_Y)\n"
   ]
  },
  {
   "cell_type": "code",
   "execution_count": 21,
   "metadata": {},
   "outputs": [],
   "source": [
    "#make prediction using the test set\n",
    "lr_pred_diabetes = lr_regr.predict(test_X)\n",
    "lr_score = lr_regr.score(test_X, test_Y)"
   ]
  },
  {
   "cell_type": "code",
   "execution_count": 22,
   "metadata": {},
   "outputs": [
    {
     "name": "stdout",
     "output_type": "stream",
     "text": [
      "LRr_Coefficients:  [[-1.80681350e-06 -1.61418759e-02 -9.25324388e-04 -4.77556910e-03\n",
      "   1.08209495e-02  3.55400799e-02 -3.03600063e-03  1.11805941e-02]]\n",
      "LR_Mean Square Error: 0.24\n",
      "LR_Variance score: 0.12\n",
      "Score: 0.12\n"
     ]
    }
   ],
   "source": [
    "print('LRr_Coefficients: ', lr_regr.coef_)\n",
    "print('LR_Mean Square Error: %.2f' % mean_squared_error(test_Y, lr_pred_diabetes))\n",
    "print('LR_Variance score: %.2f' % r2_score(test_Y, lr_pred_diabetes))\n",
    "print('Score: %.2f' % lr_regr.score(test_X, test_Y))"
   ]
  },
  {
   "cell_type": "code",
   "execution_count": 23,
   "metadata": {
    "colab": {
     "base_uri": "https://localhost:8080/"
    },
    "executionInfo": {
     "elapsed": 10910,
     "status": "ok",
     "timestamp": 1603946095439,
     "user": {
      "displayName": "Rajeev Ratan",
      "photoUrl": "https://lh3.googleusercontent.com/a-/AOh14GhBYJnwdIGYSJdvGmzIt64rYSF1dDuiFyfRw4Rpeg=s64",
      "userId": "08597265227091462140"
     },
     "user_tz": 240
    },
    "id": "HpWTsJ5HkMOk",
    "outputId": "07a9d2c5-e722-4879-c8bd-a0ff5a2b00ed"
   },
   "outputs": [
    {
     "data": {
      "text/plain": [
       "array([[0.07781471],\n",
       "       [0.0279395 ],\n",
       "       [0.2677311 ],\n",
       "       ...,\n",
       "       [0.42566603],\n",
       "       [0.16774444],\n",
       "       [0.07753259]])"
      ]
     },
     "execution_count": 23,
     "metadata": {},
     "output_type": "execute_result"
    }
   ],
   "source": [
    "# the pred table (categorical variable)\n",
    "lr_pred_diabetes"
   ]
  },
  {
   "cell_type": "markdown",
   "metadata": {},
   "source": [
    "### Decision Tree Classifier"
   ]
  },
  {
   "cell_type": "code",
   "execution_count": 24,
   "metadata": {
    "colab": {
     "base_uri": "https://localhost:8080/"
    },
    "executionInfo": {
     "elapsed": 446,
     "status": "ok",
     "timestamp": 1603947774307,
     "user": {
      "displayName": "Rajeev Ratan",
      "photoUrl": "https://lh3.googleusercontent.com/a-/AOh14GhBYJnwdIGYSJdvGmzIt64rYSF1dDuiFyfRw4Rpeg=s64",
      "userId": "08597265227091462140"
     },
     "user_tz": 240
    },
    "id": "7_y7rzWHrQ6q",
    "outputId": "1f133a54-c382-4056-90ee-b6f53ba73aca"
   },
   "outputs": [],
   "source": [
    "from sklearn.ensemble import AdaBoostClassifier\n",
    "from sklearn.tree import DecisionTreeClassifier\n",
    "from sklearn.model_selection import cross_val_score\n",
    "\n",
    "#create adaboost classification obj\n",
    "ab_clf = AdaBoostClassifier(base_estimator=DecisionTreeClassifier(), n_estimators=100, \n",
    "                            learning_rate=0.5, random_state=100)\n",
    "\n"
   ]
  },
  {
   "cell_type": "code",
   "execution_count": 25,
   "metadata": {},
   "outputs": [
    {
     "data": {
      "text/plain": [
       "AdaBoostClassifier(algorithm='SAMME.R',\n",
       "                   base_estimator=DecisionTreeClassifier(ccp_alpha=0.0,\n",
       "                                                         class_weight=None,\n",
       "                                                         criterion='gini',\n",
       "                                                         max_depth=None,\n",
       "                                                         max_features=None,\n",
       "                                                         max_leaf_nodes=None,\n",
       "                                                         min_impurity_decrease=0.0,\n",
       "                                                         min_impurity_split=None,\n",
       "                                                         min_samples_leaf=1,\n",
       "                                                         min_samples_split=2,\n",
       "                                                         min_weight_fraction_leaf=0.0,\n",
       "                                                         presort='deprecated',\n",
       "                                                         random_state=None,\n",
       "                                                         splitter='best'),\n",
       "                   learning_rate=0.5, n_estimators=100, random_state=100)"
      ]
     },
     "execution_count": 25,
     "metadata": {},
     "output_type": "execute_result"
    }
   ],
   "source": [
    "#training via adaboost classficiation model\n",
    "ab_clf.fit(train_X, train_Y)"
   ]
  },
  {
   "cell_type": "code",
   "execution_count": 26,
   "metadata": {},
   "outputs": [
    {
     "name": "stdout",
     "output_type": "stream",
     "text": [
      "prediction: \n",
      " [0. 0. 0. ... 0. 0. 0.]\n",
      "\n",
      "parms: \n",
      " <bound method BaseEstimator.get_params of AdaBoostClassifier(algorithm='SAMME.R',\n",
      "                   base_estimator=DecisionTreeClassifier(ccp_alpha=0.0,\n",
      "                                                         class_weight=None,\n",
      "                                                         criterion='gini',\n",
      "                                                         max_depth=None,\n",
      "                                                         max_features=None,\n",
      "                                                         max_leaf_nodes=None,\n",
      "                                                         min_impurity_decrease=0.0,\n",
      "                                                         min_impurity_split=None,\n",
      "                                                         min_samples_leaf=1,\n",
      "                                                         min_samples_split=2,\n",
      "                                                         min_weight_fraction_leaf=0.0,\n",
      "                                                         presort='deprecated',\n",
      "                                                         random_state=None,\n",
      "                                                         splitter='best'),\n",
      "                   learning_rate=0.5, n_estimators=100, random_state=100)>\n"
     ]
    }
   ],
   "source": [
    "#make prediction using the test set\n",
    "ab_pred_diabetes = ab_clf.predict(test_X)\n",
    "print('prediction: \\n', ab_pred_diabetes)\n",
    "\n",
    "print('\\nparms: \\n', ab_clf.get_params)"
   ]
  },
  {
   "cell_type": "code",
   "execution_count": 27,
   "metadata": {},
   "outputs": [
    {
     "name": "stdout",
     "output_type": "stream",
     "text": [
      "\n",
      "mean accuracy: 0.77\n"
     ]
    }
   ],
   "source": [
    "#score\n",
    "ab_clf_score = ab_clf.score(test_X, test_Y)\n",
    "print(\"\\nmean accuracy: %.2f\" % ab_clf.score(test_X, test_Y))"
   ]
  },
  {
   "cell_type": "markdown",
   "metadata": {
    "id": "SuvQhMnOlgKu"
   },
   "source": [
    "### Bagging Decision Trees Classifiers"
   ]
  },
  {
   "cell_type": "code",
   "execution_count": 28,
   "metadata": {
    "colab": {
     "base_uri": "https://localhost:8080/"
    },
    "executionInfo": {
     "elapsed": 441,
     "status": "ok",
     "timestamp": 1603947950189,
     "user": {
      "displayName": "Rajeev Ratan",
      "photoUrl": "https://lh3.googleusercontent.com/a-/AOh14GhBYJnwdIGYSJdvGmzIt64rYSF1dDuiFyfRw4Rpeg=s64",
      "userId": "08597265227091462140"
     },
     "user_tz": 240
    },
    "id": "yD3hhvIQrSoS",
    "outputId": "f8e4b37c-87ed-4c65-f0e2-93eb793bcaee"
   },
   "outputs": [],
   "source": [
    "from sklearn.ensemble import BaggingClassifier\n",
    "\n",
    "bagging = BaggingClassifier(base_estimator= DecisionTreeClassifier(), max_samples = 0.5, max_features = 0.5, \n",
    "                            bootstrap = False, bootstrap_features = False)"
   ]
  },
  {
   "cell_type": "code",
   "execution_count": 29,
   "metadata": {},
   "outputs": [],
   "source": [
    "bagging.fit(train_X, train_Y)\n",
    "bg_pred_diabetes = bagging.predict(test_X)"
   ]
  },
  {
   "cell_type": "code",
   "execution_count": 30,
   "metadata": {},
   "outputs": [
    {
     "data": {
      "text/plain": [
       "0.873458018304815"
      ]
     },
     "execution_count": 30,
     "metadata": {},
     "output_type": "execute_result"
    }
   ],
   "source": [
    "bg_dt_score = bagging.score(test_X, test_Y)\n",
    "bagging.score(test_X, test_Y)"
   ]
  },
  {
   "cell_type": "markdown",
   "metadata": {
    "id": "ptj-h0pwlkw_"
   },
   "source": [
    "### Bagging Decision Trees KNeighbor Classifier"
   ]
  },
  {
   "cell_type": "code",
   "execution_count": 31,
   "metadata": {
    "colab": {
     "base_uri": "https://localhost:8080/"
    },
    "executionInfo": {
     "elapsed": 1104,
     "status": "ok",
     "timestamp": 1603947974787,
     "user": {
      "displayName": "Rajeev Ratan",
      "photoUrl": "https://lh3.googleusercontent.com/a-/AOh14GhBYJnwdIGYSJdvGmzIt64rYSF1dDuiFyfRw4Rpeg=s64",
      "userId": "08597265227091462140"
     },
     "user_tz": 240
    },
    "id": "QlNViDG5rVgJ",
    "outputId": "53f1b855-fc8d-4e76-9f3c-b00dfec33d6b"
   },
   "outputs": [
    {
     "data": {
      "text/plain": [
       "0.8770393951452448"
      ]
     },
     "execution_count": 31,
     "metadata": {},
     "output_type": "execute_result"
    }
   ],
   "source": [
    "from sklearn.neighbors import KNeighborsClassifier\n",
    "\n",
    "bagging = BaggingClassifier(base_estimator= KNeighborsClassifier(), max_samples = 0.5, max_features = 0.5, \n",
    "                            bootstrap = False, bootstrap_features = False)\n",
    "\n",
    "bagging.fit(train_X, train_Y)\n",
    "bg_pred_diabetes = bagging.predict(test_X)\n",
    "\n",
    "bg_score = bagging.score(test_X, test_Y)\n",
    "bagging.score(test_X, test_Y)"
   ]
  },
  {
   "cell_type": "markdown",
   "metadata": {
    "id": "XYHtHn5iv_Ny"
   },
   "source": [
    "### XGBoost"
   ]
  },
  {
   "cell_type": "code",
   "execution_count": 32,
   "metadata": {
    "colab": {
     "base_uri": "https://localhost:8080/"
    },
    "executionInfo": {
     "elapsed": 3591,
     "status": "ok",
     "timestamp": 1603948001417,
     "user": {
      "displayName": "Rajeev Ratan",
      "photoUrl": "https://lh3.googleusercontent.com/a-/AOh14GhBYJnwdIGYSJdvGmzIt64rYSF1dDuiFyfRw4Rpeg=s64",
      "userId": "08597265227091462140"
     },
     "user_tz": 240
    },
    "id": "j2kQcnUBmbgK",
    "outputId": "1c8860e6-89bd-4a42-b7b7-63c1cf68f683"
   },
   "outputs": [
    {
     "data": {
      "text/plain": [
       "0.8754476721050537"
      ]
     },
     "execution_count": 32,
     "metadata": {},
     "output_type": "execute_result"
    }
   ],
   "source": [
    "from sklearn.ensemble import GradientBoostingClassifier\n",
    "\n",
    "xgboost = GradientBoostingClassifier(random_state=0)\n",
    "xgboost.fit(train_X, train_Y)\n",
    "\n",
    "xgboost_score = xgboost.score(test_X, test_Y)\n",
    "xgboost_score"
   ]
  },
  {
   "cell_type": "markdown",
   "metadata": {
    "id": "e1SypU-2l1LB"
   },
   "source": [
    "### Neural Network"
   ]
  },
  {
   "cell_type": "code",
   "execution_count": 33,
   "metadata": {
    "colab": {
     "base_uri": "https://localhost:8080/"
    },
    "executionInfo": {
     "elapsed": 54363,
     "status": "ok",
     "timestamp": 1603948105321,
     "user": {
      "displayName": "Rajeev Ratan",
      "photoUrl": "https://lh3.googleusercontent.com/a-/AOh14GhBYJnwdIGYSJdvGmzIt64rYSF1dDuiFyfRw4Rpeg=s64",
      "userId": "08597265227091462140"
     },
     "user_tz": 240
    },
    "id": "JaSKOuXmrYFX",
    "outputId": "1aa28876-90ed-4048-c8cf-c71961ffe347"
   },
   "outputs": [
    {
     "data": {
      "text/plain": [
       "MLPClassifier(activation='relu', alpha=0.0001, batch_size='auto', beta_1=0.9,\n",
       "              beta_2=0.999, early_stopping=False, epsilon=1e-08,\n",
       "              hidden_layer_sizes=(1000, 300, 300), learning_rate='constant',\n",
       "              learning_rate_init=0.001, max_fun=15000, max_iter=200,\n",
       "              momentum=0.9, n_iter_no_change=10, nesterovs_momentum=True,\n",
       "              power_t=0.5, random_state=None, shuffle=False, solver='adam',\n",
       "              tol=0.0001, validation_fraction=0.1, verbose=False,\n",
       "              warm_start=False)"
      ]
     },
     "execution_count": 33,
     "metadata": {},
     "output_type": "execute_result"
    }
   ],
   "source": [
    "from sklearn.neural_network import MLPClassifier\n",
    "\n",
    "mlp = MLPClassifier(hidden_layer_sizes=(1000, 300, 300), solver='adam', shuffle=False, tol = 0.0001)\n",
    "\n",
    "mlp.fit(train_X, train_Y)"
   ]
  },
  {
   "cell_type": "code",
   "execution_count": 34,
   "metadata": {},
   "outputs": [
    {
     "name": "stdout",
     "output_type": "stream",
     "text": [
      "parameter:  {'activation': 'relu', 'alpha': 0.0001, 'batch_size': 'auto', 'beta_1': 0.9, 'beta_2': 0.999, 'early_stopping': False, 'epsilon': 1e-08, 'hidden_layer_sizes': (1000, 300, 300), 'learning_rate': 'constant', 'learning_rate_init': 0.001, 'max_fun': 15000, 'max_iter': 200, 'momentum': 0.9, 'n_iter_no_change': 10, 'nesterovs_momentum': True, 'power_t': 0.5, 'random_state': None, 'shuffle': False, 'solver': 'adam', 'tol': 0.0001, 'validation_fraction': 0.1, 'verbose': False, 'warm_start': False}\n"
     ]
    }
   ],
   "source": [
    "mlp_pred_diabetes = mlp.predict(test_X)\n",
    "\n",
    "print(\"parameter: \", mlp.get_params())"
   ]
  },
  {
   "cell_type": "code",
   "execution_count": 35,
   "metadata": {},
   "outputs": [
    {
     "data": {
      "text/plain": [
       "0.8770393951452448"
      ]
     },
     "execution_count": 35,
     "metadata": {},
     "output_type": "execute_result"
    }
   ],
   "source": [
    "mlp_score = mlp.score(test_X, test_Y)\n",
    "mlp.score(test_X, test_Y)"
   ]
  },
  {
   "cell_type": "code",
   "execution_count": 36,
   "metadata": {
    "colab": {
     "base_uri": "https://localhost:8080/",
     "height": 402
    },
    "executionInfo": {
     "elapsed": 477,
     "status": "ok",
     "timestamp": 1603948136364,
     "user": {
      "displayName": "Rajeev Ratan",
      "photoUrl": "https://lh3.googleusercontent.com/a-/AOh14GhBYJnwdIGYSJdvGmzIt64rYSF1dDuiFyfRw4Rpeg=s64",
      "userId": "08597265227091462140"
     },
     "user_tz": 240
    },
    "id": "ttoIX125wkBU",
    "outputId": "5ae24145-9145-4078-fca1-0adf1bb799b2"
   },
   "outputs": [],
   "source": [
    "# having around 12% outliers + most algo got same score -> need to add more featueres to get better score\n",
    "#test_X"
   ]
  },
  {
   "cell_type": "markdown",
   "metadata": {
    "id": "1h9JTEtXl70z"
   },
   "source": [
    "### Summarizing Performance "
   ]
  },
  {
   "cell_type": "code",
   "execution_count": 37,
   "metadata": {
    "colab": {
     "base_uri": "https://localhost:8080/",
     "height": 225
    },
    "executionInfo": {
     "elapsed": 625,
     "status": "ok",
     "timestamp": 1603948271764,
     "user": {
      "displayName": "Rajeev Ratan",
      "photoUrl": "https://lh3.googleusercontent.com/a-/AOh14GhBYJnwdIGYSJdvGmzIt64rYSF1dDuiFyfRw4Rpeg=s64",
      "userId": "08597265227091462140"
     },
     "user_tz": 240
    },
    "id": "CzjCOtvcraNH",
    "outputId": "588fe6d7-af78-4362-e327-468f51cddb65"
   },
   "outputs": [
    {
     "data": {
      "text/html": [
       "<div>\n",
       "<style scoped>\n",
       "    .dataframe tbody tr th:only-of-type {\n",
       "        vertical-align: middle;\n",
       "    }\n",
       "\n",
       "    .dataframe tbody tr th {\n",
       "        vertical-align: top;\n",
       "    }\n",
       "\n",
       "    .dataframe thead th {\n",
       "        text-align: right;\n",
       "    }\n",
       "</style>\n",
       "<table border=\"1\" class=\"dataframe\">\n",
       "  <thead>\n",
       "    <tr style=\"text-align: right;\">\n",
       "      <th></th>\n",
       "      <th>Model</th>\n",
       "      <th>accuracy</th>\n",
       "    </tr>\n",
       "  </thead>\n",
       "  <tbody>\n",
       "    <tr>\n",
       "      <th>0</th>\n",
       "      <td>Linear Regression</td>\n",
       "      <td>0.120880</td>\n",
       "    </tr>\n",
       "    <tr>\n",
       "      <th>1</th>\n",
       "      <td>Adaboost</td>\n",
       "      <td>0.765619</td>\n",
       "    </tr>\n",
       "    <tr>\n",
       "      <th>2</th>\n",
       "      <td>Bagging_decision tree based</td>\n",
       "      <td>0.873458</td>\n",
       "    </tr>\n",
       "    <tr>\n",
       "      <th>4</th>\n",
       "      <td>XGBoost</td>\n",
       "      <td>0.875448</td>\n",
       "    </tr>\n",
       "    <tr>\n",
       "      <th>3</th>\n",
       "      <td>Bagging_KNeighbors</td>\n",
       "      <td>0.877039</td>\n",
       "    </tr>\n",
       "    <tr>\n",
       "      <th>5</th>\n",
       "      <td>MLP</td>\n",
       "      <td>0.877039</td>\n",
       "    </tr>\n",
       "  </tbody>\n",
       "</table>\n",
       "</div>"
      ],
      "text/plain": [
       "                         Model  accuracy\n",
       "0            Linear Regression  0.120880\n",
       "1                     Adaboost  0.765619\n",
       "2  Bagging_decision tree based  0.873458\n",
       "4                      XGBoost  0.875448\n",
       "3           Bagging_KNeighbors  0.877039\n",
       "5                          MLP  0.877039"
      ]
     },
     "execution_count": 37,
     "metadata": {},
     "output_type": "execute_result"
    }
   ],
   "source": [
    "d = {'Model': ['Linear Regression', 'Adaboost', 'Bagging_decision tree based', 'Bagging_KNeighbors', 'XGBoost', 'MLP'],\n",
    "     'accuracy' : [lr_score, ab_clf_score, bg_dt_score, bg_score, xgboost_score, mlp_score]}\n",
    "\n",
    "result_df = pd.DataFrame(data = d)\n",
    "result_df = result_df.sort_values(by=\"accuracy\", ascending=True)\n",
    "result_df"
   ]
  },
  {
   "cell_type": "code",
   "execution_count": 38,
   "metadata": {
    "colab": {
     "base_uri": "https://localhost:8080/",
     "height": 664
    },
    "executionInfo": {
     "elapsed": 595,
     "status": "ok",
     "timestamp": 1603948274896,
     "user": {
      "displayName": "Rajeev Ratan",
      "photoUrl": "https://lh3.googleusercontent.com/a-/AOh14GhBYJnwdIGYSJdvGmzIt64rYSF1dDuiFyfRw4Rpeg=s64",
      "userId": "08597265227091462140"
     },
     "user_tz": 240
    },
    "id": "J3ZQiXyis5bR",
    "outputId": "b0c8cfb5-a137-4277-f92e-03304e6f878c"
   },
   "outputs": [
    {
     "data": {
      "text/plain": [
       "<matplotlib.axes._subplots.AxesSubplot at 0x24fa1422b88>"
      ]
     },
     "execution_count": 38,
     "metadata": {},
     "output_type": "execute_result"
    },
    {
     "data": {
      "image/png": "[encoded data removed]",
      "text/plain": [
       "<Figure size 576x576 with 1 Axes>"
      ]
     },
     "metadata": {
      "needs_background": "light"
     },
     "output_type": "display_data"
    }
   ],
   "source": [
    "result_df.plot(x='Model', y='accuracy', kind='bar', figsize=(8, 8), title='Prediction Accuracy', \n",
    "               sort_columns=True)"
   ]
  },
  {
   "cell_type": "code",
   "execution_count": null,
   "metadata": {
    "executionInfo": {
     "elapsed": 56200,
     "status": "ok",
     "timestamp": 1603946140787,
     "user": {
      "displayName": "Rajeev Ratan",
      "photoUrl": "https://lh3.googleusercontent.com/a-/AOh14GhBYJnwdIGYSJdvGmzIt64rYSF1dDuiFyfRw4Rpeg=s64",
      "userId": "08597265227091462140"
     },
     "user_tz": 240
    },
    "id": "F-CtnoydndbE"
   },
   "outputs": [],
   "source": []
  }
 ],
 "metadata": {
  "colab": {
   "collapsed_sections": [],
   "name": "Healthcare Analytics Diabeties data.ipynb",
   "provenance": []
  },
  "kernelspec": {
   "display_name": "Python 3",
   "language": "python",
   "name": "python3"
  },
  "language_info": {
   "codemirror_mode": {
    "name": "ipython",
    "version": 3
   },
   "file_extension": ".py",
   "mimetype": "text/x-python",
   "name": "python",
   "nbconvert_exporter": "python",
   "pygments_lexer": "ipython3",
   "version": "3.7.6"
  }
 },
 "nbformat": 4,
 "nbformat_minor": 1
}
